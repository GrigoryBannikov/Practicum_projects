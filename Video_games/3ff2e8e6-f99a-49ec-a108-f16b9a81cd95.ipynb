{
 "cells": [
  {
   "cell_type": "markdown",
   "metadata": {},
   "source": [
    "<div style=\"border-radius: 15px; border: 3px solid indigo; padding: 15px; \">\n",
    "<b> Комментарий ревьюера</b>\n",
    "    \n",
    "Привет! Прошу прощения за задержку ревью. Надеюсь, это не принесло тебе слишком много неудобств 🙏\n",
    "    \n",
    "    \n",
    "    \n",
    "Меня зовут Светлана Носова, я буду проверять твой проект. Если не против, давай общаться на «ты». Если тебе такой стиль общения не нравится, напиши об этом, будем на «вы».  \n",
    "\n",
    "Сразу хочу обратить внимание на цветовую разметку:\n",
    "    \n",
    "    \n",
    "<div class=\"alert alert-success\" style=\"border-radius: 15px; box-shadow: 4px 4px 4px; border: 1px solid \">\n",
    "\n",
    "Зеленым отмечены отличные решения и идеи, которые можно и нужно использовать в будущем.\n",
    "</div>\n",
    "    \n",
    "<div class=\"alert alert-warning\" style=\"border-radius: 15px; box-shadow: 4px 4px 4px; border: 1px solid \">\n",
    "\n",
    "Желтым отмечено то, что можно или нужно оптимизировать, в зависимости от контекста.</div>    \n",
    "    \n",
    "<div class=\"alert alert-danger\" style=\"border-radius: 15px; box-shadow: 4px 4px 4px; border: 1px solid \">\n",
    "\n",
    "Красным  обозначены пропущенные пункты задания и ошибки, которые обязательно надо будет исправить, чтобы результаты были верные.</div> \n",
    "    \n",
    "**Ответы на мои комментарии или доработки по моим рекомендациям попрошу выделить каким-нибудь цветом, кроме трех перечисленных.**\n",
    "Также я попрошу тебя **не менять и не передвигать мои комментарии**, чтобы при последующей проверке мне было проще ориентироваться.\n",
    "    \n",
    "Кроме того, комментарии у меня обозначены как заголовки. Это сбивает содержание, но при последующей проверке я могу снять с них заголовок, если тебе так будет удобнее. При этом они удобны, поскольку ты сразу можешь перейти к ним.   \n",
    "        \n",
    "<hr>\n",
    "    \n",
    "<font color= 'dodgerblue'>**По проекту:**</font> работа сделана очень хорошо, все оформлено аккуратно и понятно. Структура работы у тебя грамотная, код легко читается, много анализа и выводов. Есть некоторые замечания, я все обозначила в комментариях. Там же я оставила рекомендации по улучшению проекта. Буду ждать работу на повторное ревью.\n",
    "</div>"
   ]
  },
  {
   "cell_type": "markdown",
   "metadata": {},
   "source": [
    "<div style=\"border-radius: 15px; border: 3px solid indigo; padding: 15px;\">\n",
    "<b> Комментарий ревьюера 2</b>\n",
    "    \n",
    "Спасибо за корректировки. Я оставила новые комментарии с цифрой 2, а со старых сняла заголовки, чтобы  не мешали. Проект я могу принять, поскольку вопросов больше нет. Желаю успехов в дальнейшем обучении :)\n",
    "    \n",
    "\n",
    "    \n",
    "</div>"
   ]
  },
  {
   "cell_type": "markdown",
   "metadata": {},
   "source": [
    "# Сборный проект №1. Анализ закономерностей продаж видеоигр"
   ]
  },
  {
   "cell_type": "markdown",
   "metadata": {},
   "source": [
    "<div class=\"alert alert-warning\" style=\"border-radius: 15px; box-shadow: 4px 4px 4px; border: 1px solid \">\n",
    "<b> Комментарий ревьюера</b>\n",
    "    \n",
    "Вводный параграф это неотъемлемая часть любого проекта, отчета, презентации или статьи. Будет очень здорово, если ты добавишь постановку задачи: краткое ее описание и описание данных. \n",
    "</div>"
   ]
  },
  {
   "cell_type": "markdown",
   "metadata": {},
   "source": [
    "<div class=\"alert alert-block alert-info\" style=\"border-radius: 15px; box-shadow: 4px 4px 4px; border: 1px solid \">\n",
    "<h3> Комментарий студента</h3>\n",
    "    \n",
    "Привет! Хорошо, добавлю описание. Думал, что раз в вводной странице уже есть оно, то не стоит дублировать\n",
    "</div>"
   ]
  },
  {
   "cell_type": "markdown",
   "metadata": {},
   "source": [
    "<b>Вводные</b><br>\n",
    "<br>\n",
    "Мы проводим анализ для международного интернет-магазине «Стримчик», который хочет создать собственную потенциально прибыльную игру в 2017 году. Для этого необходимо выявить определяющие успешность игры закономерности. <br>\n",
    "<br>\n",
    "Из открытых источников доступны исторические данные о продажах игр, оценки пользователей и экспертов, жанры и платформы до 2016 года. Нам требуется:<br>\n",
    "1) Открыть и подготовить данные к анализу;<br>\n",
    "2) Определить актуальный период, на основе которого можно делать прогнозы и предложения по ситуации на рынке в 2017 году;<br>\n",
    "3) Выделить наиболее перспективные платформы, на которые можно ориентироваться при запуске игры в 2017 году;<br>\n",
    "4) Проанализировать популярность жанров;<br>\n",
    "5) Определить ТОП-5 популярных платформ и жанров игр на разных рынках;<br>\n",
    "6) Проверить гипотезы о равенстве средних пользовательских рейтингов на XOne и PC и разнице пользовательских рейтингах жанров Action и Sports.<br>\n"
   ]
  },
  {
   "cell_type": "markdown",
   "metadata": {},
   "source": [
    "## Открытие и подготовка данных"
   ]
  },
  {
   "cell_type": "code",
   "execution_count": 1,
   "metadata": {},
   "outputs": [
    {
     "data": {
      "text/html": [
       "<div>\n",
       "<style scoped>\n",
       "    .dataframe tbody tr th:only-of-type {\n",
       "        vertical-align: middle;\n",
       "    }\n",
       "\n",
       "    .dataframe tbody tr th {\n",
       "        vertical-align: top;\n",
       "    }\n",
       "\n",
       "    .dataframe thead th {\n",
       "        text-align: right;\n",
       "    }\n",
       "</style>\n",
       "<table border=\"1\" class=\"dataframe\">\n",
       "  <thead>\n",
       "    <tr style=\"text-align: right;\">\n",
       "      <th></th>\n",
       "      <th>name</th>\n",
       "      <th>platform</th>\n",
       "      <th>year_of_release</th>\n",
       "      <th>genre</th>\n",
       "      <th>na_sales</th>\n",
       "      <th>eu_sales</th>\n",
       "      <th>jp_sales</th>\n",
       "      <th>other_sales</th>\n",
       "      <th>critic_score</th>\n",
       "      <th>user_score</th>\n",
       "      <th>rating</th>\n",
       "    </tr>\n",
       "  </thead>\n",
       "  <tbody>\n",
       "    <tr>\n",
       "      <td>0</td>\n",
       "      <td>Wii Sports</td>\n",
       "      <td>Wii</td>\n",
       "      <td>2006.0</td>\n",
       "      <td>Sports</td>\n",
       "      <td>41.36</td>\n",
       "      <td>28.96</td>\n",
       "      <td>3.77</td>\n",
       "      <td>8.45</td>\n",
       "      <td>76.0</td>\n",
       "      <td>8</td>\n",
       "      <td>E</td>\n",
       "    </tr>\n",
       "    <tr>\n",
       "      <td>1</td>\n",
       "      <td>Super Mario Bros.</td>\n",
       "      <td>NES</td>\n",
       "      <td>1985.0</td>\n",
       "      <td>Platform</td>\n",
       "      <td>29.08</td>\n",
       "      <td>3.58</td>\n",
       "      <td>6.81</td>\n",
       "      <td>0.77</td>\n",
       "      <td>NaN</td>\n",
       "      <td>NaN</td>\n",
       "      <td>NaN</td>\n",
       "    </tr>\n",
       "    <tr>\n",
       "      <td>2</td>\n",
       "      <td>Mario Kart Wii</td>\n",
       "      <td>Wii</td>\n",
       "      <td>2008.0</td>\n",
       "      <td>Racing</td>\n",
       "      <td>15.68</td>\n",
       "      <td>12.76</td>\n",
       "      <td>3.79</td>\n",
       "      <td>3.29</td>\n",
       "      <td>82.0</td>\n",
       "      <td>8.3</td>\n",
       "      <td>E</td>\n",
       "    </tr>\n",
       "    <tr>\n",
       "      <td>3</td>\n",
       "      <td>Wii Sports Resort</td>\n",
       "      <td>Wii</td>\n",
       "      <td>2009.0</td>\n",
       "      <td>Sports</td>\n",
       "      <td>15.61</td>\n",
       "      <td>10.93</td>\n",
       "      <td>3.28</td>\n",
       "      <td>2.95</td>\n",
       "      <td>80.0</td>\n",
       "      <td>8</td>\n",
       "      <td>E</td>\n",
       "    </tr>\n",
       "    <tr>\n",
       "      <td>4</td>\n",
       "      <td>Pokemon Red/Pokemon Blue</td>\n",
       "      <td>GB</td>\n",
       "      <td>1996.0</td>\n",
       "      <td>Role-Playing</td>\n",
       "      <td>11.27</td>\n",
       "      <td>8.89</td>\n",
       "      <td>10.22</td>\n",
       "      <td>1.00</td>\n",
       "      <td>NaN</td>\n",
       "      <td>NaN</td>\n",
       "      <td>NaN</td>\n",
       "    </tr>\n",
       "  </tbody>\n",
       "</table>\n",
       "</div>"
      ],
      "text/plain": [
       "                       name platform  year_of_release         genre  na_sales  \\\n",
       "0                Wii Sports      Wii           2006.0        Sports     41.36   \n",
       "1         Super Mario Bros.      NES           1985.0      Platform     29.08   \n",
       "2            Mario Kart Wii      Wii           2008.0        Racing     15.68   \n",
       "3         Wii Sports Resort      Wii           2009.0        Sports     15.61   \n",
       "4  Pokemon Red/Pokemon Blue       GB           1996.0  Role-Playing     11.27   \n",
       "\n",
       "   eu_sales  jp_sales  other_sales  critic_score user_score rating  \n",
       "0     28.96      3.77         8.45          76.0          8      E  \n",
       "1      3.58      6.81         0.77           NaN        NaN    NaN  \n",
       "2     12.76      3.79         3.29          82.0        8.3      E  \n",
       "3     10.93      3.28         2.95          80.0          8      E  \n",
       "4      8.89     10.22         1.00           NaN        NaN    NaN  "
      ]
     },
     "execution_count": 1,
     "metadata": {},
     "output_type": "execute_result"
    }
   ],
   "source": [
    "import pandas as pd\n",
    "import numpy as np\n",
    "import matplotlib.pyplot as plt\n",
    "import seaborn as sns\n",
    "from scipy import stats as st\n",
    "\n",
    "data = pd.read_csv('/datasets/games.csv')\n",
    "#data.info() — посмотрели на столбцы и заменим их на нижний регистр\n",
    "data.columns = ['name', 'platform', 'year_of_release', 'genre', \n",
    "                'na_sales', 'eu_sales', 'jp_sales', 'other_sales', \n",
    "                'critic_score', 'user_score', 'rating']\n",
    "data.head()"
   ]
  },
  {
   "cell_type": "markdown",
   "metadata": {},
   "source": [
    "Посмотрим на типы данных и пропуски, которые в них есть"
   ]
  },
  {
   "cell_type": "code",
   "execution_count": 2,
   "metadata": {},
   "outputs": [
    {
     "name": "stdout",
     "output_type": "stream",
     "text": [
      "<class 'pandas.core.frame.DataFrame'>\n",
      "RangeIndex: 16715 entries, 0 to 16714\n",
      "Data columns (total 11 columns):\n",
      "name               16713 non-null object\n",
      "platform           16715 non-null object\n",
      "year_of_release    16446 non-null float64\n",
      "genre              16713 non-null object\n",
      "na_sales           16715 non-null float64\n",
      "eu_sales           16715 non-null float64\n",
      "jp_sales           16715 non-null float64\n",
      "other_sales        16715 non-null float64\n",
      "critic_score       8137 non-null float64\n",
      "user_score         10014 non-null object\n",
      "rating             9949 non-null object\n",
      "dtypes: float64(6), object(5)\n",
      "memory usage: 1.4+ MB\n"
     ]
    }
   ],
   "source": [
    "data.info()"
   ]
  },
  {
   "cell_type": "code",
   "execution_count": 3,
   "metadata": {},
   "outputs": [
    {
     "data": {
      "text/plain": [
       "name               0.000120\n",
       "platform           0.000000\n",
       "year_of_release    0.016093\n",
       "genre              0.000120\n",
       "na_sales           0.000000\n",
       "eu_sales           0.000000\n",
       "jp_sales           0.000000\n",
       "other_sales        0.000000\n",
       "critic_score       0.513192\n",
       "user_score         0.400897\n",
       "rating             0.404786\n",
       "dtype: float64"
      ]
     },
     "execution_count": 3,
     "metadata": {},
     "output_type": "execute_result"
    }
   ],
   "source": [
    "#чтобы понимать масштабы пропусков в столбцах посмотрим не на сумму, а на среднее значение — узнаем отношение количества пропусков к общему количеству\n",
    "data.isna().mean()"
   ]
  },
  {
   "cell_type": "markdown",
   "metadata": {},
   "source": [
    "Для начала разберемся с теми пропусками, которых мало. Пропуски в столбцах с название игры и жанром мы можем заменить на пробел (ведь тип данных object). Это небольшое количество игр и вероятно в системе просто нет данных по ним<br>\n",
    "<br>\n",
    "Что касается столбца с оценками пользователей, то здесь необходимо посмотреть, что даёт такой большой результат в пропусках. Вероятно, это то самое tdb — to be determinated (скорее всего), то есть пока что не определено. Поэтому это значение мы могли бы заменить на 0 в наших расчетах\n"
   ]
  },
  {
   "cell_type": "code",
   "execution_count": 4,
   "metadata": {},
   "outputs": [
    {
     "data": {
      "text/plain": [
       "name               0.000000\n",
       "platform           0.000000\n",
       "year_of_release    0.016093\n",
       "genre              0.000000\n",
       "na_sales           0.000000\n",
       "eu_sales           0.000000\n",
       "jp_sales           0.000000\n",
       "other_sales        0.000000\n",
       "critic_score       0.513192\n",
       "user_score         0.545917\n",
       "rating             0.404786\n",
       "dtype: float64"
      ]
     },
     "execution_count": 4,
     "metadata": {},
     "output_type": "execute_result"
    }
   ],
   "source": [
    "data.fillna({'name': ' ', 'genre': ' '}, inplace=True)\n",
    "\n",
    "#data['user_score'].value_counts()\n",
    "data['user_score'] = data['user_score'].replace('tbd', np.NaN)\n",
    "data.isna().mean()"
   ]
  },
  {
   "cell_type": "markdown",
   "metadata": {},
   "source": [
    "<div class=\"alert alert-success\" style=\"border-radius: 15px; box-shadow: 4px 4px 4px; border: 1px solid \">\n",
    "<b> Комментарий ревьюера</b>\n",
    "    \n",
    "Верно. По сути, это и есть Nan-ы.</div>"
   ]
  },
  {
   "cell_type": "markdown",
   "metadata": {},
   "source": [
    "Как видно из таблицы, доли пропущенных значений в столбцах с рейтингами игр и оценками от пользователей и критиков — очень большие и заменить их на что-то — это риск для релевантности наших данных. <br>\n",
    "<br>\n",
    "Что касается причин такого странного распределения, то я бы предположил, что всё связано с тем, что игры начали выходить довольно давно (ещё до появления в 1994 году ESRB, которая присваивала рейтинги). То же самое и с оценками, ведь можно предположить, что в 90-ые проставление оценок было хуже развито, чем сейчас. Скорее всего, мы избавимся от пропущенных значений далее методом группировки по годам, где увидим, за какие периоды очень мало информации"
   ]
  },
  {
   "cell_type": "markdown",
   "metadata": {},
   "source": [
    "Перейдем теперь к изменениям в данных, ведь как мы видели, столбец с годом издания, оценками от критиков и пользователей"
   ]
  },
  {
   "cell_type": "code",
   "execution_count": 5,
   "metadata": {},
   "outputs": [
    {
     "name": "stdout",
     "output_type": "stream",
     "text": [
      "<class 'pandas.core.frame.DataFrame'>\n",
      "RangeIndex: 16715 entries, 0 to 16714\n",
      "Data columns (total 11 columns):\n",
      "name               16715 non-null object\n",
      "platform           16715 non-null object\n",
      "year_of_release    16446 non-null Int64\n",
      "genre              16715 non-null object\n",
      "na_sales           16715 non-null float64\n",
      "eu_sales           16715 non-null float64\n",
      "jp_sales           16715 non-null float64\n",
      "other_sales        16715 non-null float64\n",
      "critic_score       8137 non-null float64\n",
      "user_score         7590 non-null float64\n",
      "rating             9949 non-null object\n",
      "dtypes: Int64(1), float64(6), object(4)\n",
      "memory usage: 1.4+ MB\n"
     ]
    }
   ],
   "source": [
    "data['year_of_release'] = data['year_of_release'].astype('Int64')\n",
    "data['critic_score'] = data['critic_score'].astype('Float64')\n",
    "data['user_score'] = data['user_score'].astype('Float64')\n",
    "data.info()"
   ]
  },
  {
   "cell_type": "markdown",
   "metadata": {},
   "source": [
    "Создадим новый столбец с суммой продаж во всех регионах"
   ]
  },
  {
   "cell_type": "code",
   "execution_count": 6,
   "metadata": {},
   "outputs": [],
   "source": [
    "data['total_sales'] = data[['na_sales', 'eu_sales', 'jp_sales', 'other_sales']].sum(axis=1)"
   ]
  },
  {
   "cell_type": "markdown",
   "metadata": {},
   "source": [
    "<div class=\"alert alert-success\" style=\"border-radius: 15px; box-shadow: 4px 4px 4px; border: 1px solid \">\n",
    "<b> Комментарий ревьюера</b>\n",
    "    \n",
    "Можно еще взять метод **sum** с аргументом **axis=1**.\n",
    "    \n",
    "</div>\n",
    "\n",
    "```python\n",
    "\n",
    "\n",
    "df['total_sales'] = df[['na_sales','eu_sales','jp_sales','other_sales']].sum(axis=1)\n",
    "```"
   ]
  },
  {
   "cell_type": "markdown",
   "metadata": {},
   "source": [
    "<div class=\"alert alert-block alert-info\" style=\"border-radius: 15px; box-shadow: 4px 4px 4px; border: 1px solid \">\n",
    "<h3> Комментарий студента</h3>\n",
    "    \n",
    "Решил взять твой метод, чтобы код выглядел ещё красивее\n",
    "</div>"
   ]
  },
  {
   "cell_type": "markdown",
   "metadata": {},
   "source": [
    "## Исследовательский анализ данных"
   ]
  },
  {
   "cell_type": "markdown",
   "metadata": {},
   "source": [
    "Посмотрим на то, как распределено количество выпущенных игр по годам. Для наглядности используем гистограмму по столбцу"
   ]
  },
  {
   "cell_type": "code",
   "execution_count": 7,
   "metadata": {},
   "outputs": [
    {
     "data": {
      "image/png": "[encoded data removed]",
      "text/plain": [
       "<Figure size 1080x576 with 1 Axes>"
      ]
     },
     "metadata": {
      "needs_background": "light"
     },
     "output_type": "display_data"
    }
   ],
   "source": [
    "data['year_of_release'].hist(bins=70,figsize=(15, 8))\n",
    "plt.title('Распределение выпущенных игр по годам')\n",
    "plt.show()"
   ]
  },
  {
   "cell_type": "markdown",
   "metadata": {},
   "source": [
    "<div class=\"alert alert-danger\" style=\"border-radius: 15px; box-shadow: 4px 4px 4px; border: 1px solid \">\n",
    "<b> Комментарий ревьюера</b>\n",
    "    \n",
    "Опечатка. </div>\n"
   ]
  },
  {
   "cell_type": "markdown",
   "metadata": {},
   "source": [
    "<div class=\"alert alert-block alert-info\" style=\"border-radius: 15px; box-shadow: 4px 4px 4px; border: 1px solid \">\n",
    "<h3> Комментарий студента</h3>\n",
    "    \n",
    "Да, видимо, дернулась рука, когда отправлял. Исправил\n",
    "</div>"
   ]
  },
  {
   "cell_type": "markdown",
   "metadata": {},
   "source": [
    "Из графика видно, что в количестве выпущенных игр происходили сильные скочки на 1995, 2002 и 2008 годах. Поэтому мне кажется, что для дальнейшего нашего анализа мы могли бы использовать данные с 2002 года, когда количество игр перевалило за 800"
   ]
  },
  {
   "cell_type": "code",
   "execution_count": 8,
   "metadata": {},
   "outputs": [
    {
     "data": {
      "text/plain": [
       "platform\n",
       "PS2     1255.77\n",
       "X360     971.42\n",
       "PS3      939.65\n",
       "Wii      907.51\n",
       "DS       806.12\n",
       "PS       730.86\n",
       "GBA      317.85\n",
       "PS4      314.14\n",
       "PSP      294.05\n",
       "PC       259.52\n",
       "3DS      259.00\n",
       "XB       257.74\n",
       "GB       255.46\n",
       "NES      251.05\n",
       "N64      218.68\n",
       "SNES     200.04\n",
       "GC       198.93\n",
       "XOne     159.32\n",
       "2600      96.98\n",
       "WiiU      82.19\n",
       "PSV       54.07\n",
       "SAT       33.59\n",
       "GEN       30.77\n",
       "DC        15.95\n",
       "SCD        1.86\n",
       "NG         1.44\n",
       "WS         1.42\n",
       "TG16       0.16\n",
       "3DO        0.10\n",
       "GG         0.04\n",
       "PCFX       0.03\n",
       "Name: total_sales, dtype: float64"
      ]
     },
     "execution_count": 8,
     "metadata": {},
     "output_type": "execute_result"
    }
   ],
   "source": [
    "data_grp = data.groupby('platform')\n",
    "data_grp['total_sales'].sum().sort_values(ascending=False)"
   ]
  },
  {
   "cell_type": "markdown",
   "metadata": {},
   "source": [
    "Остановим наш выбор на платформах, на которые было продано более 80 миллионов проданных игр: с XOne до PS2 (20 штук)"
   ]
  },
  {
   "cell_type": "code",
   "execution_count": 9,
   "metadata": {},
   "outputs": [
    {
     "data": {
      "image/png": "[encoded data removed]",
      "text/plain": [
       "<Figure size 1080x1080 with 1 Axes>"
      ]
     },
     "metadata": {
      "needs_background": "light"
     },
     "output_type": "display_data"
    }
   ],
   "source": [
    "platform_leaders = data_grp['total_sales'].sum().sort_values()[-20:].index.tolist()\n",
    "\n",
    "data['platform_leader'] = (data['platform'].where(data['platform'].isin(platform_leaders), 'Другие'))\n",
    "\n",
    "plt.figure(figsize=(15,15))\n",
    "\n",
    "for name, group_data in data.groupby('platform_leader'):\n",
    "    plt.plot(data[data['platform']==name].groupby('year_of_release')['total_sales'].sum().index, \n",
    "             data[data['platform']==name].groupby('year_of_release')['total_sales'].sum(), label=name)\n",
    "    plt.title('Общие продажи игр по годам по платформам', fontsize=17)\n",
    "    plt.xlabel('Годы', fontsize=12)\n",
    "    plt.ylabel('Общие продажи в мире, млн', fontsize=12)\n",
    "    plt.legend()\n",
    "    plt.grid(True)"
   ]
  },
  {
   "cell_type": "markdown",
   "metadata": {},
   "source": [
    "Из графика видно, что срок, когда продажи на платформе растут, а затем снижаются, равны примерно 4-5 годам. Наиболее популярными платформами на 2016 год являются PS4, X360, Wii, PS3 и PC. На них продолжают продаваться больше всего игр в мире."
   ]
  },
  {
   "cell_type": "markdown",
   "metadata": {},
   "source": [
    "Таким образом, для нашего анализа мы можем использовать данные с 2012 года (продажи игр в этот год упали и находятся примерно на одном уровне) по 5 наиболее популярным платформам (PS4, XOne, WiiU, PS3, 3DS, PC) на 2016 год"
   ]
  },
  {
   "cell_type": "code",
   "execution_count": null,
   "metadata": {},
   "outputs": [],
   "source": []
  },
  {
   "cell_type": "markdown",
   "metadata": {},
   "source": [
    "Теперь рассмотрим размах в продажах по платформам, посторив сначала \"ящики с усами\" для всего периода и всех платформ, а затем для интересующего нас периода и платформ"
   ]
  },
  {
   "cell_type": "code",
   "execution_count": 10,
   "metadata": {
    "scrolled": false
   },
   "outputs": [
    {
     "data": {
      "image/png": "[encoded data removed]",
      "text/plain": [
       "<Figure size 1440x864 with 1 Axes>"
      ]
     },
     "metadata": {
      "needs_background": "light"
     },
     "output_type": "display_data"
    }
   ],
   "source": [
    "plt.figure(figsize=(20,12))\n",
    "plt.ylim(0,5)\n",
    "sns.boxplot(x='platform',y='total_sales',data=data)\n",
    "plt.title('Диаграмма размаха для платформ с 1980 по 2016', fontsize=17)\n",
    "plt.show()\n"
   ]
  },
  {
   "cell_type": "code",
   "execution_count": 11,
   "metadata": {
    "scrolled": false
   },
   "outputs": [
    {
     "data": {
      "image/png": "[encoded data removed]",
      "text/plain": [
       "<Figure size 1080x720 with 1 Axes>"
      ]
     },
     "metadata": {
      "needs_background": "light"
     },
     "output_type": "display_data"
    }
   ],
   "source": [
    "data_2012 = data.query('year_of_release>2012').reset_index(drop=True)\n",
    "\n",
    "platform_leaders_top5 = data_2012.query('year_of_release>2015').groupby(\n",
    "    'platform')['total_sales'].sum().sort_values()[-5:].index.tolist()\n",
    "\n",
    "data_2012['actual_leaders'] = (data_2012['platform'].where(data_2012['platform'].isin(platform_leaders_top5), 'Остальные'))\n",
    "    \n",
    "plt.figure(figsize=(15,10))\n",
    "plt.ylim(0,3)\n",
    "sns.boxplot(x='actual_leaders',y='total_sales',data=data_2012.query('actual_leaders!=\"Остальные\"'))\n",
    "plt.title('Диаграмма размаха для платформ ТОП-5 по общим продажам с 2012 по 2016', fontsize=17)\n",
    "plt.show()"
   ]
  },
  {
   "cell_type": "code",
   "execution_count": 12,
   "metadata": {},
   "outputs": [
    {
     "data": {
      "text/plain": [
       "count    392.000000\n",
       "mean       0.801378\n",
       "std        1.609456\n",
       "min        0.010000\n",
       "25%        0.060000\n",
       "50%        0.200000\n",
       "75%        0.730000\n",
       "max       14.630000\n",
       "Name: total_sales, dtype: float64"
      ]
     },
     "execution_count": 12,
     "metadata": {},
     "output_type": "execute_result"
    }
   ],
   "source": [
    "PS4_2012 = data_2012.query('platform == \"PS4\"')\n",
    "PS4_2012['total_sales'].describe()"
   ]
  },
  {
   "cell_type": "code",
   "execution_count": 13,
   "metadata": {},
   "outputs": [
    {
     "data": {
      "text/plain": [
       "count    247.000000\n",
       "mean       0.645020\n",
       "std        1.036139\n",
       "min        0.010000\n",
       "25%        0.060000\n",
       "50%        0.220000\n",
       "75%        0.685000\n",
       "max        7.390000\n",
       "Name: total_sales, dtype: float64"
      ]
     },
     "execution_count": 13,
     "metadata": {},
     "output_type": "execute_result"
    }
   ],
   "source": [
    "XOne_2012 = data_2012.query('platform == \"XOne\"')\n",
    "XOne_2012['total_sales'].describe()"
   ]
  },
  {
   "cell_type": "code",
   "execution_count": 14,
   "metadata": {},
   "outputs": [
    {
     "data": {
      "text/plain": [
       "count    115.000000\n",
       "mean       0.562000\n",
       "std        1.038778\n",
       "min        0.010000\n",
       "25%        0.060000\n",
       "50%        0.200000\n",
       "75%        0.595000\n",
       "max        7.090000\n",
       "Name: total_sales, dtype: float64"
      ]
     },
     "execution_count": 14,
     "metadata": {},
     "output_type": "execute_result"
    }
   ],
   "source": [
    "WiiU_2012 = data_2012.query('platform == \"WiiU\"')\n",
    "WiiU_2012['total_sales'].describe()"
   ]
  },
  {
   "cell_type": "markdown",
   "metadata": {},
   "source": [
    "Исходя из графиков, можно увидеть, что медианные значения продаж игр на WiiU, XOne и PS4 примерно равны и выше, чем у других платформ. Однако \"усы\" последний двух платформ длинее, а среднее выше, что говорит о большем количестве успешных игр, которые выстреливали (это же показывают и \"выбросы\"). Можно было бы объяснить это тем, что 2 эти платформы появились позже остальных и (около 2013-2014 года)."
   ]
  },
  {
   "cell_type": "markdown",
   "metadata": {},
   "source": [
    "<b>Выводы:</b> <br>\n",
    "1) Для анализа  свой выбор на PC, так как персональные компьютеры остаются популярными, несмотря на появление новых платфром. Вероятно, они располагают большим объёмом данных по оценкам критиков и оценкам пользователей, в отличие от PS4 или XOne, которые появились относительно недавно<br>\n",
    "2) Также, можно заметить, что на всех платформах, есть выбросы, что говорит о наличии \"выстреливших\" игр. При этом боксы XOne и PS4 больше, чем у остальных платформ. Это говорит  о преимуществе в выходе игр на эти платформы, так как они с большей вероятностью будут покупаться, даже если не станут бестселлерами"
   ]
  },
  {
   "cell_type": "markdown",
   "metadata": {},
   "source": [
    "<div class=\"alert alert-success\" style=\"border-radius: 15px; box-shadow: 4px 4px 4px; border: 1px solid \">\n",
    "<b> Комментарий ревьюера </b>\n",
    "    \n",
    "Выбросы это действительно какие-то популярные игры. Я бы даже сказала *бестселлеры*. И это очень показательная штука. Посмотри на 3DS. Маленький ящик и много выбросов. Это говорит о том, что большАя часть объема продаж делается за счет этих выбросов. В то же время у XOne ситуация иная: большой бокс, длинный ус и мало выбросов. Это свидетельствует о том, что на XOne покупают самые разные игры, причем, в немалом количестве. \n",
    "</div>"
   ]
  },
  {
   "cell_type": "markdown",
   "metadata": {},
   "source": [
    "<div class=\"alert alert-danger\" style=\"border-radius: 15px; box-shadow: 4px 4px 4px; border: 1px solid \">\n",
    "<b> Комментарий ревьюера</b>\n",
    "   \n",
    "- Решая эту задачу, я тоже сначала взяла лет 10 (тут взято 15 лето). Но потом до меня дошло, что рынок динамичен, все меняется. Некогда популярный жанр за 10 лет может стать не таким популярным. И наоборот. Так что за это время несколько поколений сменятся :) А мы зацепим мертвые платформы и неактуальные предпочтения пользователей. Да и очевидно, что платформа, появившаяся в 2004 году и ставшая очень популярной, набрала больше продаж, чем новенькая консоль, у которой все еще впереди. Индустрия развивается, игры становятся лучше, графика лучше, а пользователи — более требовательными. В таких задачах нам нужна свежная информация, свежая оценка. Если прогнозируем на 2017 год, то какая разница, что было 10 лет назад? Потенциально прибыльные платформы мы можем легко отобрать по графикам и таблице прадаж. Но пользовательские портреты могут поменяться. Если взглянуть на столбчатую диаграмму продаж, то по ней можно понять, в какой год произошла стабилизация рынка после бурных продаж.     \n",
    "    \n",
    "    \n",
    "    \n",
    "- В результате, какие платформы считаем потенциально прибыльными? Те, что на ящике выше? Или не только? При выборе не забывай, что продажи по некоторым консолям могут близиться к нулю на момент выгрузки.</div>\n"
   ]
  },
  {
   "cell_type": "markdown",
   "metadata": {},
   "source": [
    "<div class=\"alert alert-block alert-info\" style=\"border-radius: 15px; box-shadow: 4px 4px 4px; border: 1px solid \">\n",
    "<h3> Комментарий студента</h3>\n",
    "    \n",
    "Спасибо, что подсказала посмотреть на год, когда рынок устаканился, и на \"ящики\" в диаграммах, чтобы сделать вывод и по их размерам. Поправил год (изменил на 2012)\n",
    "</div>"
   ]
  },
  {
   "cell_type": "markdown",
   "metadata": {},
   "source": [
    "<div class=\"alert alert-success\" style=\"border-radius: 15px; box-shadow: 4px 4px 4px; border: 1px solid \">\n",
    "<h2> Комментарий ревьюера 2</h2>\n",
    "    \n",
    "К тому же, получится половина жизненного цикла. А сам период начнется, когда нынешние топы только вышли на рынок :)</div>"
   ]
  },
  {
   "cell_type": "markdown",
   "metadata": {},
   "source": [
    "Теперь посмотрим на то, влияют ли оценки критиков и пользователей на общие продажи в мире на примере одной платформы. Я решил взять персональные компьютеры (PC), так как для них можно будет взять весь период, ведь игры на компьютеры выходили и будут выходить."
   ]
  },
  {
   "cell_type": "markdown",
   "metadata": {},
   "source": [
    "<div class=\"alert alert-success\" style=\"border-radius: 15px; box-shadow: 4px 4px 4px; border: 1px solid \">\n",
    "<b> Комментарий ревьюера </b>\n",
    "    \n",
    "Соглашусь.\n",
    "\n",
    "</div>"
   ]
  },
  {
   "cell_type": "code",
   "execution_count": 15,
   "metadata": {},
   "outputs": [
    {
     "data": {
      "image/png": "[encoded data removed]",
      "text/plain": [
       "<Figure size 576x288 with 1 Axes>"
      ]
     },
     "metadata": {
      "needs_background": "light"
     },
     "output_type": "display_data"
    },
    {
     "data": {
      "image/png": "[encoded data removed]",
      "text/plain": [
       "<Figure size 576x288 with 1 Axes>"
      ]
     },
     "metadata": {
      "needs_background": "light"
     },
     "output_type": "display_data"
    },
    {
     "data": {
      "image/png": "[encoded data removed]",
      "text/plain": [
       "<Figure size 540x540 with 12 Axes>"
      ]
     },
     "metadata": {
      "needs_background": "light"
     },
     "output_type": "display_data"
    }
   ],
   "source": [
    "data_2012[data_2012['platform']==\"PC\"].plot(x='critic_score', y='total_sales', kind='scatter', figsize=(8,4)) \n",
    "plt.title('Диаграмма рассеивания оценок и продаж игр на PC', fontsize=15)\n",
    "plt.xlabel('Оценки критиков', fontsize=12)\n",
    "plt.ylabel('Объёмы продаж в мире, млнОценка критиков', fontsize=12)\n",
    "plt.show()\n",
    "\n",
    "data_2012[data_2012['platform']==\"PC\"].plot(x='user_score', y='total_sales', kind='scatter', figsize=(8,4)) \n",
    "plt.title('Диаграмма рассеивания оценок и продаж игр на PC', fontsize=15)\n",
    "plt.xlabel('Оценки пользователей', fontsize=12)\n",
    "plt.ylabel('Объёмы продаж в мире, млн', fontsize=12)\n",
    "plt.show()\n",
    "\n",
    "plt.figsize=(12,8)\n",
    "sns.pairplot(data_2012[data_2012['platform']== \"PC\"][['total_sales', 'critic_score', 'user_score']])\n",
    "plt.show()"
   ]
  },
  {
   "cell_type": "markdown",
   "metadata": {},
   "source": [
    "Из диаграмм видно, что объёмы продаж и оценки связаны, но недостаточно сильно. Действительно, чем выше оценка, тем больше могут быть продажи у игр. Но при этом игры располагаются довольно кучно на нижних значения продаж, несмотря на положительные оценки. <br>\n",
    "<br>\n",
    "Дополнительно можно заметить, что положительные оценки критиков и пользователей для компьютерных игр имеют положительную хорошую связь"
   ]
  },
  {
   "cell_type": "code",
   "execution_count": 16,
   "metadata": {},
   "outputs": [
    {
     "data": {
      "text/html": [
       "<div>\n",
       "<style scoped>\n",
       "    .dataframe tbody tr th:only-of-type {\n",
       "        vertical-align: middle;\n",
       "    }\n",
       "\n",
       "    .dataframe tbody tr th {\n",
       "        vertical-align: top;\n",
       "    }\n",
       "\n",
       "    .dataframe thead th {\n",
       "        text-align: right;\n",
       "    }\n",
       "</style>\n",
       "<table border=\"1\" class=\"dataframe\">\n",
       "  <thead>\n",
       "    <tr style=\"text-align: right;\">\n",
       "      <th></th>\n",
       "      <th>total_sales</th>\n",
       "      <th>critic_score</th>\n",
       "      <th>user_score</th>\n",
       "    </tr>\n",
       "  </thead>\n",
       "  <tbody>\n",
       "    <tr>\n",
       "      <td>total_sales</td>\n",
       "      <td>1.000000</td>\n",
       "      <td>0.196030</td>\n",
       "      <td>-0.093842</td>\n",
       "    </tr>\n",
       "    <tr>\n",
       "      <td>critic_score</td>\n",
       "      <td>0.196030</td>\n",
       "      <td>1.000000</td>\n",
       "      <td>0.429562</td>\n",
       "    </tr>\n",
       "    <tr>\n",
       "      <td>user_score</td>\n",
       "      <td>-0.093842</td>\n",
       "      <td>0.429562</td>\n",
       "      <td>1.000000</td>\n",
       "    </tr>\n",
       "  </tbody>\n",
       "</table>\n",
       "</div>"
      ],
      "text/plain": [
       "              total_sales  critic_score  user_score\n",
       "total_sales      1.000000      0.196030   -0.093842\n",
       "critic_score     0.196030      1.000000    0.429562\n",
       "user_score      -0.093842      0.429562    1.000000"
      ]
     },
     "execution_count": 16,
     "metadata": {},
     "output_type": "execute_result"
    }
   ],
   "source": [
    "data_2012[data_2012['platform'] == 'PC'][['total_sales', 'critic_score', 'user_score']].corr()"
   ]
  },
  {
   "cell_type": "markdown",
   "metadata": {},
   "source": [
    "Таблица с корреляциями показывает, что общие продажи имеют слабую положительную связь с оценками критиков и уж совсем незначительную отрицательную связь с пользовательскими оценками, если это вообще можно принять за связь. "
   ]
  },
  {
   "cell_type": "markdown",
   "metadata": {},
   "source": [
    "Обратимся к корреляциям на других платформах, чтобы сравнить с ними данные"
   ]
  },
  {
   "cell_type": "code",
   "execution_count": 17,
   "metadata": {},
   "outputs": [
    {
     "name": "stdout",
     "output_type": "stream",
     "text": [
      "WiiU\n",
      "              total_sales  critic_score  user_score\n",
      "total_sales      1.000000      0.376415    0.419330\n",
      "critic_score     0.376415      1.000000    0.721313\n",
      "user_score       0.419330      0.721313    1.000000\n",
      "\n",
      "PC\n",
      "              total_sales  critic_score  user_score\n",
      "total_sales      1.000000      0.196030   -0.093842\n",
      "critic_score     0.196030      1.000000    0.429562\n",
      "user_score      -0.093842      0.429562    1.000000\n",
      "\n",
      "3DS\n",
      "              total_sales  critic_score  user_score\n",
      "total_sales      1.000000      0.357057    0.241504\n",
      "critic_score     0.357057      1.000000    0.769536\n",
      "user_score       0.241504      0.769536    1.000000\n",
      "\n",
      "XOne\n",
      "              total_sales  critic_score  user_score\n",
      "total_sales      1.000000      0.416998   -0.068925\n",
      "critic_score     0.416998      1.000000    0.472462\n",
      "user_score      -0.068925      0.472462    1.000000\n",
      "\n",
      "PS4\n",
      "              total_sales  critic_score  user_score\n",
      "total_sales      1.000000      0.406568   -0.031957\n",
      "critic_score     0.406568      1.000000    0.557654\n",
      "user_score      -0.031957      0.557654    1.000000\n",
      "\n"
     ]
    }
   ],
   "source": [
    "for platform in platform_leaders_top5:\n",
    "    print (platform)\n",
    "    print (data_2012[data_2012['platform'] == platform][['total_sales', 'critic_score', 'user_score']].corr())\n",
    "    print ()"
   ]
  },
  {
   "cell_type": "markdown",
   "metadata": {},
   "source": [
    "Из этих таблиц корреляций можно сделать вывод, что наибольшую связь с объёмом продаж показывают оценки критиков на PS4 и XOne (более 0.4). Также объёмы продаж игр на WiiU имеют среднюю связь с пользовательскими оценками. Для компьютерных игр эти показатели наименее значимы."
   ]
  },
  {
   "cell_type": "markdown",
   "metadata": {},
   "source": [
    "Начнем анализировать жанры игр, которые продаются с 2002 года. Определим наиболее популярные жанры"
   ]
  },
  {
   "cell_type": "code",
   "execution_count": 18,
   "metadata": {
    "scrolled": false
   },
   "outputs": [
    {
     "data": {
      "image/png": "[encoded data removed]",
      "text/plain": [
       "<Figure size 864x576 with 1 Axes>"
      ]
     },
     "metadata": {
      "needs_background": "light"
     },
     "output_type": "display_data"
    },
    {
     "data": {
      "image/png": "[encoded data removed]",
      "text/plain": [
       "<Figure size 864x576 with 1 Axes>"
      ]
     },
     "metadata": {
      "needs_background": "light"
     },
     "output_type": "display_data"
    },
    {
     "data": {
      "image/png": "[encoded data removed]",
      "text/plain": [
       "<Figure size 864x576 with 1 Axes>"
      ]
     },
     "metadata": {
      "needs_background": "light"
     },
     "output_type": "display_data"
    }
   ],
   "source": [
    "data_2012.groupby('genre')['total_sales'].sum().sort_values(\n",
    "    ascending=False).plot(kind='bar', color='pink', figsize=(12, 8), grid=True)\n",
    "plt.title('Общие продажи игр по жанрам', fontsize=10)\n",
    "plt.xlabel('Жанр', fontsize=6)\n",
    "plt.ylabel('Общие продажи в мире, млн', fontsize=6)\n",
    "plt.show()\n",
    "\n",
    "data_2012.groupby('genre')['total_sales'].mean().sort_values(\n",
    "    ascending=False).plot(kind='bar', color='blue', figsize=(12, 8), grid=True)\n",
    "plt.title('Среднее общих продажи игр по жанрам с 2012 года', fontsize=10)\n",
    "plt.xlabel('Жанр', fontsize=6)\n",
    "plt.ylabel('Общие продажи в мире, млн', fontsize=6)\n",
    "plt.show()\n",
    "\n",
    "data_2012.groupby('genre')['total_sales'].median().sort_values(\n",
    "    ascending=False).plot(kind='bar', color='red',figsize=(12, 8), grid=True)\n",
    "plt.title('Медиана общих продажи игр по жанрам с 2012 года', fontsize=10)\n",
    "plt.xlabel('Жанр', fontsize=6)\n",
    "plt.ylabel('Общие продажи в мире, млн', fontsize=6)\n",
    "plt.show()"
   ]
  },
  {
   "cell_type": "markdown",
   "metadata": {},
   "source": [
    "<div class=\"alert alert-warning\" style=\"border-radius: 15px; box-shadow: 4px 4px 4px; border: 1px solid\">\n",
    "<b> Комментарий ревьюера</b>\n",
    "    \n",
    "Хорошо. А может ли быть такая ситуация, что экшн делает продажи только за счет большего количества игр и большого количества бестселлеров? Быть может, другие жанры имеют больше продаж в расчете на единицу игры. Можно сделать то же самое, но с медианными/средними  продажами.\n",
    "</div>"
   ]
  },
  {
   "cell_type": "markdown",
   "metadata": {},
   "source": [
    "<div class=\"alert alert-block alert-info\" style=\"border-radius: 15px; box-shadow: 4px 4px 4px; border: 1px solid \">\n",
    "<h3> Комментарий студента</h3>\n",
    "    \n",
    "Да, действительно, если посмотреть, то Action берут такие продажи только за счет наличия значительных \"выбросов\" в объёмах продаж. Поправил выводы\n",
    "</div>"
   ]
  },
  {
   "cell_type": "code",
   "execution_count": 19,
   "metadata": {},
   "outputs": [
    {
     "data": {
      "image/png": "[encoded data removed]",
      "text/plain": [
       "<Figure size 1080x720 with 1 Axes>"
      ]
     },
     "metadata": {
      "needs_background": "light"
     },
     "output_type": "display_data"
    }
   ],
   "source": [
    "plt.figure(figsize=(15,10))\n",
    "plt.ylim(0,5)\n",
    "sns.boxplot(x='genre',y='total_sales',data=data_2012)\n",
    "plt.title('Диаграмма размаха для общих продаж по жанрам с 2012 по 2016', fontsize=17)\n",
    "plt.show()"
   ]
  },
  {
   "cell_type": "markdown",
   "metadata": {},
   "source": [
    "Итак, можно выделить 5 наиболее популярных по общему объему продаж жанров: <br>\n",
    "1) Action<br>\n",
    "2) Shooter<br>\n",
    "3) Sports<br>\n",
    "4) Role-Playing<br>\n",
    "5) Misc<br>\n",
    "\n",
    "Однако, стоит учесть, что такая позиция связана с наличием игр, которые выстрелили. По сравнению с другими популярными жанами, у Action меньше всего размеры \"ящика\" и длины \"усов\", но много выбросов. Если смотреть на средние и медианные значения, то здесь лучше всего обстоят дела у игр в жанрах:\n",
    "1) Shooter<br>\n",
    "2) Sports<br>\n",
    "3) Platform <br>\n",
    "4) Role-playing<br>\n",
    "Они находятся в топе по всем показателям: общих объемах продаж, общих средних продажах и медианных продажах с 2012 года. "
   ]
  },
  {
   "cell_type": "markdown",
   "metadata": {},
   "source": [
    "## Составляем портреты пользователя"
   ]
  },
  {
   "cell_type": "markdown",
   "metadata": {},
   "source": [
    "<div class=\"alert alert-warning\" style=\"border-radius: 15px; box-shadow: 4px 4px 4px; border: 1px solid \">\n",
    "<b> Комментарий ревьюера</b>\n",
    "    \n",
    "Распределения могут поменяться после корректировки периода.\n",
    "</div>"
   ]
  },
  {
   "cell_type": "markdown",
   "metadata": {},
   "source": [
    "Для составления портретов пользователей создадим сводную таблицу с данными о продажах по регионам"
   ]
  },
  {
   "cell_type": "code",
   "execution_count": 20,
   "metadata": {
    "scrolled": false
   },
   "outputs": [
    {
     "data": {
      "image/png": "[encoded data removed]",
      "text/plain": [
       "<Figure size 1080x720 with 1 Axes>"
      ]
     },
     "metadata": {
      "needs_background": "light"
     },
     "output_type": "display_data"
    }
   ],
   "source": [
    "data_2012_pvt_region = data_2012.pivot_table(index='platform',\n",
    "                                             values=['na_sales', 'eu_sales', 'jp_sales', 'other_sales'], \n",
    "                                             aggfunc='sum').reset_index()\n",
    "data_2012_pvt_region.plot(x='platform', kind='bar', figsize=(15, 10))\n",
    "plt.title('Популярность платформ в регонах')\n",
    "plt.legend()\n",
    "plt.xlabel('Платформы')\n",
    "plt.ylabel('Количество проданных игр на платформу, млн')\n",
    "plt.show()"
   ]
  },
  {
   "cell_type": "code",
   "execution_count": 21,
   "metadata": {},
   "outputs": [
    {
     "name": "stdout",
     "output_type": "stream",
     "text": [
      "Топ-5 наиболее популярных платформ в регионе (na_sales)\n",
      "platform\n",
      "PS4     108.74\n",
      "XOne     93.12\n",
      "X360     81.66\n",
      "PS3      63.50\n",
      "3DS      38.20\n",
      "Name: na_sales, dtype: float64\n",
      "\n",
      "Топ-5 наиболее популярных платформ в регионе (eu_sales)\n",
      "platform\n",
      "PS4     141.09\n",
      "PS3      67.81\n",
      "XOne     51.59\n",
      "X360     42.52\n",
      "3DS      30.96\n",
      "Name: eu_sales, dtype: float64\n",
      "\n",
      "Топ-5 наиболее популярных платформ в регионе (jp_sales)\n",
      "platform\n",
      "3DS     67.81\n",
      "PS3     23.35\n",
      "PSV     18.59\n",
      "PS4     15.96\n",
      "WiiU    10.88\n",
      "Name: jp_sales, dtype: float64\n",
      "\n",
      "Топ-5 наиболее популярных платформ в регионе (other_sales)\n",
      "platform\n",
      "PS4     48.35\n",
      "PS3     26.77\n",
      "XOne    14.27\n",
      "X360    12.11\n",
      "3DS      6.28\n",
      "Name: other_sales, dtype: float64\n",
      "\n"
     ]
    }
   ],
   "source": [
    "region = ['na_sales', 'eu_sales', 'jp_sales', 'other_sales']\n",
    "\n",
    "for country in region:\n",
    "    print ('Топ-5 наиболее популярных платформ в регионе ({0})'.format(country))\n",
    "    print (data_2012.groupby('platform')[country].sum().sort_values(ascending=False)[:5])\n",
    "    print ()"
   ]
  },
  {
   "cell_type": "markdown",
   "metadata": {},
   "source": [
    "Так, мы видим, что за период с 2012 года во всём мире, кроме Японии, самой популярной платформой стала PS4, ведь на неё продаётся больше всего игр. В стране восходящего солнца первое место занимает 3DS<br>\n",
    "<br>\n",
    "Теперь посмотрим на доли жанров в продажах в определённых регионах, чтобы узнать, где какие жанры наиболее популярны"
   ]
  },
  {
   "cell_type": "markdown",
   "metadata": {},
   "source": [
    "<div class=\"alert alert-success\" style=\"border-radius: 15px; box-shadow: 4px 4px 4px; border: 1px solid \">\n",
    "<h2> Комментарий ревьюера 2</h2>\n",
    "    \n",
    "Похоже, что японцы больше любят портативные консоли и родной рынок. Игры на иксбоксы там продвигать точно не стоит :)\n",
    "</div>"
   ]
  },
  {
   "cell_type": "code",
   "execution_count": 22,
   "metadata": {
    "scrolled": false
   },
   "outputs": [
    {
     "data": {
      "image/png": "[encoded data removed]",
      "text/plain": [
       "<Figure size 1008x720 with 1 Axes>"
      ]
     },
     "metadata": {
      "needs_background": "light"
     },
     "output_type": "display_data"
    },
    {
     "data": {
      "image/png": "[encoded data removed]",
      "text/plain": [
       "<Figure size 1008x720 with 1 Axes>"
      ]
     },
     "metadata": {
      "needs_background": "light"
     },
     "output_type": "display_data"
    },
    {
     "data": {
      "image/png": "[encoded data removed]",
      "text/plain": [
       "<Figure size 1008x720 with 1 Axes>"
      ]
     },
     "metadata": {
      "needs_background": "light"
     },
     "output_type": "display_data"
    },
    {
     "data": {
      "image/png": "[encoded data removed]",
      "text/plain": [
       "<Figure size 1008x720 with 1 Axes>"
      ]
     },
     "metadata": {
      "needs_background": "light"
     },
     "output_type": "display_data"
    }
   ],
   "source": [
    "data_2012_na_sum = data_2012.pivot_table(index='genre', values=['na_sales'], aggfunc='sum'\n",
    "                                    ).reset_index().sort_values(by='na_sales', ascending=False)\n",
    "\n",
    "data_2012_eu = data_2012.pivot_table(index='genre', values=['eu_sales'], aggfunc='sum'\n",
    "                                    ).reset_index().sort_values(by='eu_sales', ascending=False)\n",
    "\n",
    "data_2012_jp = data_2012.pivot_table(index='genre', values=['jp_sales'], aggfunc='sum'\n",
    "                                    ).reset_index().sort_values(by='jp_sales', ascending=False)\n",
    "\n",
    "data_2012_oth = data_2012.pivot_table(index='genre', values=['other_sales'], aggfunc='sum'\n",
    "                                     ).reset_index().sort_values(by='other_sales', ascending=False)\n",
    "\n",
    "data_2012_na_sum.plot(x='genre', color='blue', kind='bar', figsize=(14, 10))\n",
    "plt.title('Количество проданных игр по жанрам в США с 2012 по 2016 года')\n",
    "plt.show()\n",
    "\n",
    "data_2012_eu.plot(x='genre', kind='bar', figsize=(14, 10))\n",
    "plt.title('Количество проданных игр по жанрам в Европе с 2012 по 2016 года')\n",
    "plt.show()\n",
    "\n",
    "data_2012_jp.plot(x='genre', color='pink', kind='bar', figsize=(14, 10))\n",
    "plt.title('Количество проданных игр по жанрам в Японии с 2012 по 2016 года')\n",
    "plt.show()\n",
    "\n",
    "data_2012_oth.plot(x='genre', color='turquoise', kind='bar', figsize=(14, 10))\n",
    "plt.title('Количество проданных игр по жанрам в остальном мире с 2012 по 2016 года')\n",
    "plt.show()"
   ]
  },
  {
   "cell_type": "markdown",
   "metadata": {},
   "source": [
    "<div class=\"alert alert-warning\" style=\"border-radius: 15px; box-shadow: 4px 4px 4px; border: 1px solid \">\n",
    "<b> Комментарий ревьюера</b>\n",
    "    \n",
    "Если секторов много, то сравнивать их становится трудно. Тут лучше брать столбчатую диаграмму. \n",
    "</div>"
   ]
  },
  {
   "cell_type": "markdown",
   "metadata": {},
   "source": [
    "<div class=\"alert alert-block alert-info\" style=\"border-radius: 15px; box-shadow: 4px 4px 4px; border: 1px solid \">\n",
    "<h3> Комментарий студента</h3>\n",
    "    \n",
    "Поменял диаграмму для удобства чтения\n",
    "</div>"
   ]
  },
  {
   "cell_type": "code",
   "execution_count": 23,
   "metadata": {},
   "outputs": [
    {
     "name": "stdout",
     "output_type": "stream",
     "text": [
      "Топ-5 наиболее популярных жанров в регионе по сумме продаж (na_sales)\n",
      "genre\n",
      "Action          126.05\n",
      "Shooter         109.74\n",
      "Sports           65.27\n",
      "Role-Playing     46.40\n",
      "Misc             27.49\n",
      "Name: na_sales, dtype: float64\n",
      "\n",
      "Топ-5 наиболее популярных жанров в регионе по медианным продажам (na_sales)\n",
      "genre\n",
      "Shooter     0.200\n",
      "Platform    0.090\n",
      "Sports      0.080\n",
      "Fighting    0.045\n",
      "Racing      0.030\n",
      "Name: na_sales, dtype: float64\n",
      "\n",
      "Топ-5 наиболее популярных жанров в регионе по сумме продаж (eu_sales)\n",
      "genre\n",
      "Action          118.13\n",
      "Shooter          87.86\n",
      "Sports           60.52\n",
      "Role-Playing     36.97\n",
      "Racing           20.19\n",
      "Name: eu_sales, dtype: float64\n",
      "\n",
      "Топ-5 наиболее популярных жанров в регионе по медианным продажам (eu_sales)\n",
      "genre\n",
      "Shooter       0.190\n",
      "Platform      0.080\n",
      "Racing        0.060\n",
      "Sports        0.050\n",
      "Simulation    0.035\n",
      "Name: eu_sales, dtype: float64\n",
      "\n",
      "Топ-5 наиболее популярных жанров в регионе по сумме продаж (jp_sales)\n",
      "genre\n",
      "Role-Playing    51.04\n",
      "Action          40.49\n",
      "Misc             9.20\n",
      "Fighting         7.65\n",
      "Shooter          6.61\n",
      "Name: jp_sales, dtype: float64\n",
      "\n",
      "Топ-5 наиболее популярных жанров в регионе по медианным продажам (jp_sales)\n",
      "genre\n",
      "Role-Playing    0.05\n",
      "Fighting        0.03\n",
      "Puzzle          0.02\n",
      "Misc            0.02\n",
      "Adventure       0.01\n",
      "Name: jp_sales, dtype: float64\n",
      "\n",
      "Топ-5 наиболее популярных жанров в регионе по сумме продаж (other_sales)\n",
      "genre\n",
      "Action          37.20\n",
      "Shooter         28.77\n",
      "Sports          19.45\n",
      "Role-Playing    11.48\n",
      "Misc             6.09\n",
      "Name: other_sales, dtype: float64\n",
      "\n",
      "Топ-5 наиболее популярных жанров в регионе по медианным продажам (other_sales)\n",
      "genre\n",
      "Shooter         0.050\n",
      "Platform        0.025\n",
      "Sports          0.020\n",
      "Role-Playing    0.010\n",
      "Racing          0.010\n",
      "Name: other_sales, dtype: float64\n",
      "\n"
     ]
    }
   ],
   "source": [
    "region = ['na_sales', 'eu_sales', 'jp_sales', 'other_sales']\n",
    "\n",
    "for country in region:\n",
    "    print ('Топ-5 наиболее популярных жанров в регионе по сумме продаж ({0})'.format(country))\n",
    "    print (data_2012.groupby('genre')[country].sum().sort_values(ascending=False)[:5])\n",
    "    print ()\n",
    "    print ('Топ-5 наиболее популярных жанров в регионе по медианным продажам ({0})'.format(country))\n",
    "    print (data_2012.groupby('genre')[country].median().sort_values(ascending=False)[:5])\n",
    "    print ()"
   ]
  },
  {
   "cell_type": "markdown",
   "metadata": {},
   "source": [
    "Исходя из диаграмм и таблиц, видно, что пятерка жанров очень похожа от региона к региону. Явной разницей является то, что Action и Shooter с 2012 по 2016 года — наиболее популярный жанр во всех регионах, кроме Японии, где больше всего продаётся игр в жанре Role-Playing. Вероятно, это связано культурными особенностями региона и восточной культурой. Кроме того, стоит отметить, что многие ролевые игры рисуются и выглядят как герои аниме, манги и комиксов, что крайне популярно в восточной культуре<br>\n",
    "<br>\n",
    "При этом если взять данные не по сумме продаж, а по их медианному значению, то картинка меняется (кроме Японии) и наибольшую медиану показывают шутеры, платформы и спортивные игры. В Японии же пользуются спросом ролевые игры, файтинги и головоломки."
   ]
  },
  {
   "cell_type": "markdown",
   "metadata": {},
   "source": [
    "Нам остается только узнать, как присваемые рейтинги играм отражаются на их уровне продаж по разным регионам"
   ]
  },
  {
   "cell_type": "markdown",
   "metadata": {},
   "source": [
    "<div class=\"alert alert-danger\" style=\"border-radius: 15px; box-shadow: 4px 4px 4px; border: 1px solid\">\n",
    "<b> Комментарий ревьюера</b>\n",
    "    \n",
    "Здесь необходимо рассмотреть также и отсутствующий возрастной рейтинг, предварительно заменив его на маркерное значение. Например, на *Нет рейтинга*. Эта задача является отличным примером того, что даже пропущенные значения могут нести в себе важную информацию. \n",
    "</div>"
   ]
  },
  {
   "cell_type": "markdown",
   "metadata": {},
   "source": [
    "<div class=\"alert alert-block alert-info\" style=\"border-radius: 15px; box-shadow: 4px 4px 4px; border: 1px solid \">\n",
    "<h3> Комментарий студента</h3>\n",
    "    \n",
    "Не обратил внимание, но судя по графику ниже, таких действительно очень много\n",
    "</div>"
   ]
  },
  {
   "cell_type": "code",
   "execution_count": 24,
   "metadata": {},
   "outputs": [
    {
     "data": {
      "image/png": "[encoded data removed]",
      "text/plain": [
       "<Figure size 864x576 with 1 Axes>"
      ]
     },
     "metadata": {
      "needs_background": "light"
     },
     "output_type": "display_data"
    }
   ],
   "source": [
    "data_2012['rating'].fillna('Нет рейтинга', inplace=True)\n",
    "\n",
    "data_2012.groupby('rating')[['na_sales', 'eu_sales', 'jp_sales', 'other_sales']].sum().plot.bar(figsize=(12,8))\n",
    "plt.legend()\n",
    "plt.title('Общий объём продаж игр по рейтингам с 2012 года')\n",
    "plt.grid(True)\n",
    "plt.xlabel('Рейтинги')\n",
    "plt.ylabel('Объём продаж, млн')\n",
    "plt.xticks(rotation=0)\n",
    "plt.show()"
   ]
  },
  {
   "cell_type": "markdown",
   "metadata": {},
   "source": [
    "<div class=\"alert alert-warning\" style=\"border-radius: 15px; box-shadow: 4px 4px 4px; border: 1px solid\">\n",
    "<b> Комментарий ревьюера</b>\n",
    "    \n",
    "А еще я случайно удалила ячейку с графиком, undo не сработал.. Прости, пожалуйста :)\n",
    "\n",
    "\n",
    "К счастью, там ничего сложного не было: группируем по рейтингу, берем срез по регионам, вызываем сумму и строим столбчатую диаграмму. Добавлю аналогичный код от себя: </div>"
   ]
  },
  {
   "cell_type": "markdown",
   "metadata": {},
   "source": [
    "<div class=\"alert alert-block alert-info\" style=\"border-radius: 15px; box-shadow: 4px 4px 4px; border: 1px solid \">\n",
    "<h3> Комментарий студента</h3>\n",
    "    \n",
    "Ничего страшного, кажется, всё восстановлено)\n",
    "</div>"
   ]
  },
  {
   "cell_type": "code",
   "execution_count": null,
   "metadata": {},
   "outputs": [],
   "source": [
    "# КОД РЕВЬЮЕРА\n",
    "\n",
    "ax = data_2012.groupby('rating')[['na_sales', 'eu_sales', 'jp_sales']].sum().plot.bar(figsize=(12,8))\n",
    "\n",
    "ax.grid(True)\n",
    "ax.legend(['СА', 'EC', 'Япония'])\n",
    "ax.set(ylabel='Подпись', xlabel='Подпись', title='Заголовок')\n",
    "plt.xticks(rotation=0)\n",
    "\n",
    "plt.show()"
   ]
  },
  {
   "cell_type": "markdown",
   "metadata": {},
   "source": [
    "Итак, можно заметить, что игры с рейтингом M (от 17 лет) продаются лучше всего во всем мире, кроме Японии. Там больше всего популярны игры без рейтинга. При этом игры без рейтинга также очень хорошо продаются во всём мире. "
   ]
  },
  {
   "cell_type": "markdown",
   "metadata": {},
   "source": [
    "<div class=\"alert alert-success\" style=\"border-radius: 15px; box-shadow: 4px 4px 4px; border: 1px solid \">\n",
    "<h2> Комментарий ревьюера 2</h2>\n",
    "\n",
    "Да, Япония у нас снова отличилась. Скорее всего, дело тут в том, что ESRB работает только на территории СА, в Японии есть аналогичная организация: CERO. Я думаю, что, с одной стороны, иностранным играм они (ESRB) не присваивают рейтинги, поскольку на них уже есть маркировка. Чтобы не было конфликта, так сказать. Так что вполне возможно, что часть игр это продукция Японии или же это корейские игры (там тоже своя организация). С другой стороны, раз они продают игры на своем рынке, то присвоение рейтинга может быть обязательным. Значит, дело еще может быть в том, что наша таблица это склейка двух таблиц: продажи на Западе и на Востоке. Так или иначе, это очень показательный пример. И именно разница в рынках (восточный и западный) наталкивает на мысль о неслучайности пропусков.\n",
    "\n",
    "</div>"
   ]
  },
  {
   "cell_type": "markdown",
   "metadata": {},
   "source": [
    "## Проверка гипотез"
   ]
  },
  {
   "cell_type": "markdown",
   "metadata": {},
   "source": [
    "В нашем исследовании нам предстоит проверить 2 гипотезы. Первая из них звучит как предположение, что cредние пользовательские рейтинги платформ Xbox One и PC одинаковые. Переформулируем в нашу нулевую гипотезу — \"Средние пользовательских рейтингов платформ Xbox One и PC равны между собой. Тогда альтернативная гипотеза будет говорить о том, что они неравны между собой. Проверим это t-test'ом для средних двух независимых выборок на уровне доверия в 95%"
   ]
  },
  {
   "cell_type": "markdown",
   "metadata": {},
   "source": [
    "<div class=\"alert alert-warning\" style=\"border-radius: 15px; box-shadow: 4px 4px 4px; border: 1px solid \">\n",
    "<b> Комментарий ревьюера</b>\n",
    "    \n",
    "Тут тоже результаты могут поменяться. </div>"
   ]
  },
  {
   "cell_type": "markdown",
   "metadata": {},
   "source": [
    "<div class=\"alert alert-block alert-info\" style=\"border-radius: 15px; box-shadow: 4px 4px 4px; border: 1px solid \">\n",
    "<h3> Комментарий студента</h3>\n",
    "    \n",
    "Да, понялись результаты\n",
    "</div>"
   ]
  },
  {
   "cell_type": "code",
   "execution_count": 25,
   "metadata": {},
   "outputs": [
    {
     "name": "stdout",
     "output_type": "stream",
     "text": [
      "p-значение: 0.14760\n",
      "Не получилось отвергнуть нулевую гипотезу\n"
     ]
    }
   ],
   "source": [
    "alpha = 0.05\n",
    "\n",
    "XOne_data = data_2012[data_2012['platform']==\"XOne\"]['user_score'].dropna() #сразу возьмем в данные столбец с пользовательскими оценками и уберем оттуда пропуски, которые могут повлять на среднее\n",
    "PC_data = data_2012[data_2012['platform']==\"PC\"]['user_score'].dropna()\n",
    "\n",
    "results=st.ttest_ind(XOne_data,PC_data,equal_var=False)\n",
    "\n",
    "print('p-значение: {:.5f}'.format(results.pvalue))\n",
    "\n",
    "if (results.pvalue < alpha):\n",
    "    print(\"Отвергаем нулевую гипотезу\")\n",
    "else:\n",
    "    print(\"Не получилось отвергнуть нулевую гипотезу\")"
   ]
  },
  {
   "cell_type": "markdown",
   "metadata": {},
   "source": [
    "В ходе проверки гипотезы на t-test мы не отвергаем её. Значит, средние значения пользовательских оценок игр на двух платформах могут быть одинаковыми. "
   ]
  },
  {
   "cell_type": "markdown",
   "metadata": {},
   "source": [
    "Перейдём ко второму предположению. Сформулируем нулевую гипотезу как \"среднее пользовательских рейтингов жанров Action и Sports равны. Тогда альтернативная гипотеза будет отвергать их равенство"
   ]
  },
  {
   "cell_type": "code",
   "execution_count": 26,
   "metadata": {},
   "outputs": [
    {
     "name": "stdout",
     "output_type": "stream",
     "text": [
      "p-значение: 0.00000\n",
      "Отвергаем нулевую гипотезу\n"
     ]
    }
   ],
   "source": [
    "alpha = 0.05\n",
    "\n",
    "action_data = data_2012[data_2012['genre']==\"Action\"]['user_score'].dropna()\n",
    "sport_data = data_2012[data_2012['genre']==\"Sports\"]['user_score'].dropna()\n",
    "\n",
    "results=st.ttest_ind(action_data, sport_data, equal_var=False)\n",
    "\n",
    "print('p-значение: {:.5f}'.format(results.pvalue))\n",
    "\n",
    "if (results.pvalue < alpha):\n",
    "    print(\"Отвергаем нулевую гипотезу\")\n",
    "else:\n",
    "    print(\"Не получилось отвергнуть нулевую гипотезу\")"
   ]
  },
  {
   "cell_type": "markdown",
   "metadata": {},
   "source": [
    "Проверка t-test показала, что нам нужно будет отвергуть нулевую гипотезу и считать средние значения неравными между собой. Значит наша изначальная идея о том, что средние двух жанров разные, оказалась верной"
   ]
  },
  {
   "cell_type": "markdown",
   "metadata": {},
   "source": [
    "## Выводы"
   ]
  },
  {
   "cell_type": "markdown",
   "metadata": {},
   "source": [
    "Перед нам стояла задача выделить закономерности для проектировки потенциально успешной игры на 2017 год. Для этого мы взяли данные с 1980 по 2016 года. Для оценки текущей ситуации было решено рассмотреть временной промежуток с 2012 года, когда произошло \"устаканивание\" в общих продажах игр. Вот к каким выводам мы пришли на основе анализа данных:<br>\n",
    "<br>\n",
    "1) Несмотря на то, что объёмы продаж на современные платформы начинают подать, мы можем говорить о том, что такие платформы как PS4, XOne, DS3, WiiU и PC, ещё остаются актуальными. При этом нужно отметить, что первые 2 платформы появились позже остальных и объёмы продажи игр на них не так сильно зависят от бестселлерова — на них покупают совершенно разные игры. Если учитывать, что в среднем платформы \"живут\" 4-5 лет, то лучше всего ориентирваться в производстве игр на них;<br>\n",
    "<br>\n",
    "2) В случае с платформами PS4 и XOne на успех в продажах игр может влять оценка критиков (хоть и незначительно);<br>\n",
    "<br>\n",
    "3) Говоря про жанры игр, то здесь лучше ориентировать на ТОП жанров по средним и медаинным продажам:\n",
    "- Shooter\n",
    "- Sports\n",
    "- Platform\n",
    "- Role-playing. Именно эти жанры популярнее всего, и игры на них продаются с разных консолей и в разных страннах. При этом Shooter — жанр, который популярен во всех регионах, но если мы хотим выходить на рынок Японии, то здесь предпочтение отдаётся ролевым играм;<br>\n",
    "<br>\n",
    "4)Проанализировав рынки, мы можем сказать, что: <br>\n",
    "4.1) для США самые популярные платформы — PS4, XOne, X360, жанры — Shooter, Platform, Sports, Fighting и Racing в рейтинге M (от 17 лет) или вообще без рейтинга;<br>\n",
    "4.2) для Европы самые популярные платформы — PS4, PS3 и XOne, жанры — Shooter, Platform, Racing, Sports и Simulation в рейтинге M (от 17 лет) или E(для всех); <br>\n",
    "4.3) для Японии самые популярные платформы — 3DS, PS3 и PSV, жанры — Role-Playing, Fighting, Puzzle, Misc и Adventure без рейтинга или в рейтинге T (13-19 лет); <br>\n",
    "4.4) для остального мира самые популярные платформы — PS4, PS3 и XOne, жанры — Shooter, Platform, Sports, Role-Playing и Racing в рейтинге M(от 17) или без рейтинга.<br>\n",
    "<br>\n",
    "<br>\n",
    "5) Исходя из анализа ситуации с 2012 года, можно сделать вывод, что компании лучше ориентироваться игры для PS4 c рейтингом M (от 17 лет) в жанре Shooter, Platform или Sports."
   ]
  },
  {
   "cell_type": "markdown",
   "metadata": {},
   "source": [
    "<div class=\"alert alert-warning\" style=\"border-radius: 15px; box-shadow: 4px 4px 4px; border: 1px solid\">\n",
    "<b> Комментарий ревьюера</b>\n",
    "    \n",
    "Вывод хороший. Будет здорово, если добавишь  конкретику по регионам:  2-3 консоли, 2-3 жанра и рейтинги. Также не забудь обновить вывод после внесения изменений. \n",
    "\n",
    "</div>"
   ]
  },
  {
   "cell_type": "markdown",
   "metadata": {},
   "source": [
    "<div class=\"alert alert-block alert-info\" style=\"border-radius: 15px; box-shadow: 4px 4px 4px; border: 1px solid \">\n",
    "<h3> Комментарий студента</h3>\n",
    "\n",
    "Обновил и добавил конкретику по регионам\n",
    "</div>"
   ]
  },
  {
   "cell_type": "markdown",
   "metadata": {},
   "source": [
    "<div class=\"alert alert-success\" style=\"border-radius: 15px; box-shadow: 4px 4px 4px; border: 1px solid \">\n",
    "<h2> Комментарий ревьюера 2</h2>\n",
    "\n",
    "Супер :)\n",
    "</div>"
   ]
  }
 ],
 "metadata": {
  "ExecuteTimeLog": [
   {
    "duration": 642,
    "start_time": "2022-01-10T21:21:07.703Z"
   },
   {
    "duration": 44,
    "start_time": "2022-01-10T21:23:27.215Z"
   },
   {
    "duration": 58,
    "start_time": "2022-01-10T21:23:46.272Z"
   },
   {
    "duration": 9,
    "start_time": "2022-01-10T21:23:58.700Z"
   },
   {
    "duration": 327,
    "start_time": "2022-01-10T21:24:31.915Z"
   },
   {
    "duration": 281,
    "start_time": "2022-01-10T21:24:54.690Z"
   },
   {
    "duration": 4,
    "start_time": "2022-01-10T21:26:50.837Z"
   },
   {
    "duration": 278,
    "start_time": "2022-01-10T21:27:34.980Z"
   },
   {
    "duration": 8,
    "start_time": "2022-01-10T21:29:32.886Z"
   },
   {
    "duration": 6,
    "start_time": "2022-01-10T21:30:28.798Z"
   },
   {
    "duration": 9,
    "start_time": "2022-01-10T21:30:47.362Z"
   },
   {
    "duration": 12,
    "start_time": "2022-01-10T21:30:55.436Z"
   },
   {
    "duration": 20,
    "start_time": "2022-01-10T21:31:15.902Z"
   },
   {
    "duration": 8,
    "start_time": "2022-01-10T21:31:30.135Z"
   },
   {
    "duration": 11,
    "start_time": "2022-01-10T21:31:42.978Z"
   },
   {
    "duration": 11,
    "start_time": "2022-01-10T21:31:56.616Z"
   },
   {
    "duration": 10,
    "start_time": "2022-01-10T21:32:12.449Z"
   },
   {
    "duration": 9,
    "start_time": "2022-01-10T21:47:21.048Z"
   },
   {
    "duration": 21,
    "start_time": "2022-01-10T21:48:38.933Z"
   },
   {
    "duration": 6,
    "start_time": "2022-01-10T21:48:43.360Z"
   },
   {
    "duration": 8,
    "start_time": "2022-01-10T21:48:50.893Z"
   },
   {
    "duration": 12,
    "start_time": "2022-01-10T21:49:34.690Z"
   },
   {
    "duration": 6,
    "start_time": "2022-01-10T21:49:47.299Z"
   },
   {
    "duration": 8,
    "start_time": "2022-01-10T21:49:59.962Z"
   },
   {
    "duration": 7,
    "start_time": "2022-01-10T21:50:21.988Z"
   },
   {
    "duration": 38,
    "start_time": "2022-01-10T21:50:38.850Z"
   },
   {
    "duration": 8,
    "start_time": "2022-01-10T21:50:56.953Z"
   },
   {
    "duration": 9,
    "start_time": "2022-01-10T21:51:12.658Z"
   },
   {
    "duration": 949,
    "start_time": "2022-01-10T21:51:45.641Z"
   },
   {
    "duration": 10,
    "start_time": "2022-01-10T21:51:47.798Z"
   },
   {
    "duration": 8,
    "start_time": "2022-01-10T21:51:48.679Z"
   },
   {
    "duration": 340,
    "start_time": "2022-01-10T21:54:17.644Z"
   },
   {
    "duration": 5,
    "start_time": "2022-01-10T21:54:38.803Z"
   },
   {
    "duration": 11,
    "start_time": "2022-01-10T21:54:46.046Z"
   },
   {
    "duration": 11,
    "start_time": "2022-01-10T21:55:16.926Z"
   },
   {
    "duration": 37,
    "start_time": "2022-01-10T21:57:28.936Z"
   },
   {
    "duration": 10,
    "start_time": "2022-01-10T21:57:33.905Z"
   },
   {
    "duration": 9,
    "start_time": "2022-01-10T21:57:34.503Z"
   },
   {
    "duration": 8,
    "start_time": "2022-01-10T21:57:34.791Z"
   },
   {
    "duration": 7,
    "start_time": "2022-01-10T21:57:49.234Z"
   },
   {
    "duration": 8,
    "start_time": "2022-01-10T21:58:33.556Z"
   },
   {
    "duration": 7,
    "start_time": "2022-01-10T21:58:35.181Z"
   },
   {
    "duration": 13,
    "start_time": "2022-01-10T21:58:42.564Z"
   },
   {
    "duration": 6,
    "start_time": "2022-01-10T21:58:50.493Z"
   },
   {
    "duration": 10,
    "start_time": "2022-01-10T21:58:59.796Z"
   },
   {
    "duration": 8,
    "start_time": "2022-01-10T22:00:16.747Z"
   },
   {
    "duration": 10,
    "start_time": "2022-01-10T22:00:32.761Z"
   },
   {
    "duration": 11,
    "start_time": "2022-01-10T22:01:03.453Z"
   },
   {
    "duration": 8,
    "start_time": "2022-01-10T22:02:41.406Z"
   },
   {
    "duration": 53,
    "start_time": "2022-01-10T22:04:45.651Z"
   },
   {
    "duration": 9,
    "start_time": "2022-01-10T22:05:32.253Z"
   },
   {
    "duration": 8,
    "start_time": "2022-01-10T22:06:30.760Z"
   },
   {
    "duration": 12,
    "start_time": "2022-01-10T22:10:20.922Z"
   },
   {
    "duration": 9,
    "start_time": "2022-01-10T22:10:24.802Z"
   },
   {
    "duration": 588,
    "start_time": "2022-01-10T22:10:42.387Z"
   },
   {
    "duration": 9,
    "start_time": "2022-01-10T22:10:44.336Z"
   },
   {
    "duration": 8,
    "start_time": "2022-01-10T22:10:45.604Z"
   },
   {
    "duration": 11,
    "start_time": "2022-01-10T22:10:56.560Z"
   },
   {
    "duration": 17,
    "start_time": "2022-01-10T22:11:01.166Z"
   },
   {
    "duration": 9,
    "start_time": "2022-01-10T22:11:22.481Z"
   },
   {
    "duration": 92,
    "start_time": "2022-01-10T22:11:36.297Z"
   },
   {
    "duration": 8,
    "start_time": "2022-01-10T22:11:39.611Z"
   },
   {
    "duration": 8,
    "start_time": "2022-01-10T22:11:45.902Z"
   },
   {
    "duration": 14,
    "start_time": "2022-01-10T22:15:09.045Z"
   },
   {
    "duration": 14,
    "start_time": "2022-01-10T22:21:38.301Z"
   },
   {
    "duration": 8,
    "start_time": "2022-01-10T22:22:08.394Z"
   },
   {
    "duration": 607,
    "start_time": "2022-01-11T19:09:33.604Z"
   },
   {
    "duration": 11,
    "start_time": "2022-01-11T19:09:35.464Z"
   },
   {
    "duration": 10,
    "start_time": "2022-01-11T19:09:35.994Z"
   },
   {
    "duration": 15,
    "start_time": "2022-01-11T19:09:36.828Z"
   },
   {
    "duration": 16,
    "start_time": "2022-01-11T19:09:38.067Z"
   },
   {
    "duration": 10,
    "start_time": "2022-01-11T19:09:39.201Z"
   },
   {
    "duration": 7,
    "start_time": "2022-01-11T19:11:00.894Z"
   },
   {
    "duration": 348,
    "start_time": "2022-01-11T19:11:31.554Z"
   },
   {
    "duration": 383,
    "start_time": "2022-01-11T19:11:43.357Z"
   },
   {
    "duration": 403,
    "start_time": "2022-01-11T19:13:48.069Z"
   },
   {
    "duration": 283,
    "start_time": "2022-01-11T19:14:04.376Z"
   },
   {
    "duration": 355,
    "start_time": "2022-01-11T19:22:31.194Z"
   },
   {
    "duration": 62,
    "start_time": "2022-01-11T19:22:56.643Z"
   },
   {
    "duration": 318,
    "start_time": "2022-01-11T19:23:35.090Z"
   },
   {
    "duration": 345,
    "start_time": "2022-01-11T19:29:50.613Z"
   },
   {
    "duration": 7,
    "start_time": "2022-01-11T19:30:03.761Z"
   },
   {
    "duration": 340,
    "start_time": "2022-01-11T19:30:06.104Z"
   },
   {
    "duration": 5,
    "start_time": "2022-01-11T19:30:06.957Z"
   },
   {
    "duration": 341,
    "start_time": "2022-01-11T19:30:08.777Z"
   },
   {
    "duration": 9,
    "start_time": "2022-01-11T19:30:11.181Z"
   },
   {
    "duration": 8,
    "start_time": "2022-01-11T19:30:19.438Z"
   },
   {
    "duration": 5,
    "start_time": "2022-01-11T19:31:01.256Z"
   },
   {
    "duration": 6,
    "start_time": "2022-01-11T19:31:09.120Z"
   },
   {
    "duration": 12,
    "start_time": "2022-01-11T19:31:18.054Z"
   },
   {
    "duration": 8,
    "start_time": "2022-01-11T19:31:54.141Z"
   },
   {
    "duration": 91,
    "start_time": "2022-01-11T19:36:15.970Z"
   },
   {
    "duration": 9,
    "start_time": "2022-01-11T19:36:23.600Z"
   },
   {
    "duration": 5,
    "start_time": "2022-01-11T19:37:23.937Z"
   },
   {
    "duration": 5,
    "start_time": "2022-01-11T19:37:31.533Z"
   },
   {
    "duration": 7,
    "start_time": "2022-01-11T19:37:37.247Z"
   },
   {
    "duration": 7,
    "start_time": "2022-01-11T19:37:50.603Z"
   },
   {
    "duration": 7,
    "start_time": "2022-01-11T19:38:06.197Z"
   },
   {
    "duration": 12,
    "start_time": "2022-01-11T19:38:12.120Z"
   },
   {
    "duration": 221,
    "start_time": "2022-01-11T19:47:39.305Z"
   },
   {
    "duration": 453,
    "start_time": "2022-01-11T19:47:56.158Z"
   },
   {
    "duration": 10,
    "start_time": "2022-01-11T19:47:57.642Z"
   },
   {
    "duration": 10,
    "start_time": "2022-01-11T19:47:57.939Z"
   },
   {
    "duration": 13,
    "start_time": "2022-01-11T19:47:58.541Z"
   },
   {
    "duration": 15,
    "start_time": "2022-01-11T19:47:59.712Z"
   },
   {
    "duration": 5,
    "start_time": "2022-01-11T19:48:00.844Z"
   },
   {
    "duration": 310,
    "start_time": "2022-01-11T19:48:02.361Z"
   },
   {
    "duration": 9,
    "start_time": "2022-01-11T19:48:07.281Z"
   },
   {
    "duration": 8,
    "start_time": "2022-01-11T19:48:08.583Z"
   },
   {
    "duration": 321,
    "start_time": "2022-01-11T19:48:10.045Z"
   },
   {
    "duration": 215,
    "start_time": "2022-01-11T19:48:25.505Z"
   },
   {
    "duration": 8633,
    "start_time": "2022-01-11T19:48:51.263Z"
   },
   {
    "duration": 5,
    "start_time": "2022-01-11T19:49:39.163Z"
   },
   {
    "duration": 7,
    "start_time": "2022-01-11T19:49:55.829Z"
   },
   {
    "duration": 5,
    "start_time": "2022-01-11T19:50:30.439Z"
   },
   {
    "duration": 6,
    "start_time": "2022-01-11T19:50:33.942Z"
   },
   {
    "duration": 235,
    "start_time": "2022-01-11T19:50:42.332Z"
   },
   {
    "duration": 238,
    "start_time": "2022-01-11T19:50:55.867Z"
   },
   {
    "duration": 316,
    "start_time": "2022-01-11T19:51:16.469Z"
   },
   {
    "duration": 270,
    "start_time": "2022-01-11T19:53:39.600Z"
   },
   {
    "duration": 207,
    "start_time": "2022-01-11T19:53:54.102Z"
   },
   {
    "duration": 11,
    "start_time": "2022-01-11T19:53:59.743Z"
   },
   {
    "duration": 13,
    "start_time": "2022-01-11T19:54:10.294Z"
   },
   {
    "duration": 207,
    "start_time": "2022-01-11T19:55:21.421Z"
   },
   {
    "duration": 321,
    "start_time": "2022-01-11T19:55:33.739Z"
   },
   {
    "duration": 12,
    "start_time": "2022-01-11T19:55:38.590Z"
   },
   {
    "duration": 11,
    "start_time": "2022-01-11T19:55:47.148Z"
   },
   {
    "duration": 10,
    "start_time": "2022-01-11T19:55:55.703Z"
   },
   {
    "duration": 11,
    "start_time": "2022-01-11T19:56:10.046Z"
   },
   {
    "duration": 214,
    "start_time": "2022-01-11T19:57:35.731Z"
   },
   {
    "duration": 215,
    "start_time": "2022-01-11T20:14:13.835Z"
   },
   {
    "duration": 247,
    "start_time": "2022-01-11T20:15:14.293Z"
   },
   {
    "duration": 8,
    "start_time": "2022-01-11T20:20:32.923Z"
   },
   {
    "duration": 20,
    "start_time": "2022-01-11T20:20:42.828Z"
   },
   {
    "duration": 10,
    "start_time": "2022-01-11T20:21:05.372Z"
   },
   {
    "duration": 9,
    "start_time": "2022-01-11T20:21:06.181Z"
   },
   {
    "duration": 18,
    "start_time": "2022-01-11T20:21:07.333Z"
   },
   {
    "duration": 208,
    "start_time": "2022-01-11T20:21:17.153Z"
   },
   {
    "duration": 10,
    "start_time": "2022-01-11T20:21:52.739Z"
   },
   {
    "duration": 9,
    "start_time": "2022-01-11T20:21:53.765Z"
   },
   {
    "duration": 24,
    "start_time": "2022-01-11T20:21:55.058Z"
   },
   {
    "duration": 386,
    "start_time": "2022-01-11T20:27:05.384Z"
   },
   {
    "duration": 207,
    "start_time": "2022-01-11T20:27:33.502Z"
   },
   {
    "duration": 404,
    "start_time": "2022-01-11T20:27:47.505Z"
   },
   {
    "duration": 1802,
    "start_time": "2022-01-12T14:38:39.945Z"
   },
   {
    "duration": 17,
    "start_time": "2022-01-12T14:38:42.940Z"
   },
   {
    "duration": 13,
    "start_time": "2022-01-12T14:38:43.198Z"
   },
   {
    "duration": 17,
    "start_time": "2022-01-12T14:38:43.823Z"
   },
   {
    "duration": 22,
    "start_time": "2022-01-12T14:38:44.569Z"
   },
   {
    "duration": 12,
    "start_time": "2022-01-12T14:38:45.036Z"
   },
   {
    "duration": 486,
    "start_time": "2022-01-12T14:38:45.838Z"
   },
   {
    "duration": 14,
    "start_time": "2022-01-12T14:38:46.448Z"
   },
   {
    "duration": 10,
    "start_time": "2022-01-12T14:38:46.840Z"
   },
   {
    "duration": 612,
    "start_time": "2022-01-12T14:39:59.761Z"
   },
   {
    "duration": 348,
    "start_time": "2022-01-12T14:40:08.478Z"
   },
   {
    "duration": 1524,
    "start_time": "2022-01-12T14:40:14.462Z"
   },
   {
    "duration": 14,
    "start_time": "2022-01-12T14:40:17.071Z"
   },
   {
    "duration": 12,
    "start_time": "2022-01-12T14:40:17.331Z"
   },
   {
    "duration": 19,
    "start_time": "2022-01-12T14:40:17.938Z"
   },
   {
    "duration": 22,
    "start_time": "2022-01-12T14:40:18.775Z"
   },
   {
    "duration": 12,
    "start_time": "2022-01-12T14:40:19.277Z"
   },
   {
    "duration": 493,
    "start_time": "2022-01-12T14:40:20.025Z"
   },
   {
    "duration": 15,
    "start_time": "2022-01-12T14:40:20.948Z"
   },
   {
    "duration": 11,
    "start_time": "2022-01-12T14:40:21.468Z"
   },
   {
    "duration": 14,
    "start_time": "2022-01-12T14:40:22.576Z"
   },
   {
    "duration": 440,
    "start_time": "2022-01-12T14:42:08.077Z"
   },
   {
    "duration": 407,
    "start_time": "2022-01-12T14:42:23.835Z"
   },
   {
    "duration": 834,
    "start_time": "2022-01-12T14:43:15.404Z"
   },
   {
    "duration": 349,
    "start_time": "2022-01-12T14:43:24.456Z"
   },
   {
    "duration": 518,
    "start_time": "2022-01-12T14:44:31.087Z"
   },
   {
    "duration": 321,
    "start_time": "2022-01-12T14:44:54.620Z"
   },
   {
    "duration": 326,
    "start_time": "2022-01-12T14:45:09.591Z"
   },
   {
    "duration": 797,
    "start_time": "2022-01-12T14:46:54.209Z"
   },
   {
    "duration": 326,
    "start_time": "2022-01-12T14:47:06.386Z"
   },
   {
    "duration": 413,
    "start_time": "2022-01-12T14:47:12.950Z"
   },
   {
    "duration": 333,
    "start_time": "2022-01-12T14:47:19.935Z"
   },
   {
    "duration": 716,
    "start_time": "2022-01-12T14:48:23.832Z"
   },
   {
    "duration": 572,
    "start_time": "2022-01-12T14:48:34.605Z"
   },
   {
    "duration": 565,
    "start_time": "2022-01-12T14:49:52.010Z"
   },
   {
    "duration": 615,
    "start_time": "2022-01-12T14:50:25.337Z"
   },
   {
    "duration": 397,
    "start_time": "2022-01-12T14:50:32.880Z"
   },
   {
    "duration": 538,
    "start_time": "2022-01-12T14:51:08.924Z"
   },
   {
    "duration": 588,
    "start_time": "2022-01-12T14:51:24.913Z"
   },
   {
    "duration": 329,
    "start_time": "2022-01-12T14:51:36.464Z"
   },
   {
    "duration": 331,
    "start_time": "2022-01-12T14:52:41.633Z"
   },
   {
    "duration": 6441,
    "start_time": "2022-01-12T14:55:57.890Z"
   },
   {
    "duration": 6519,
    "start_time": "2022-01-12T14:56:27.530Z"
   },
   {
    "duration": 400,
    "start_time": "2022-01-12T14:57:13.712Z"
   },
   {
    "duration": 3516,
    "start_time": "2022-01-12T14:59:00.852Z"
   },
   {
    "duration": 580,
    "start_time": "2022-01-12T15:00:04.104Z"
   },
   {
    "duration": 3672,
    "start_time": "2022-01-12T15:00:35.895Z"
   },
   {
    "duration": 3489,
    "start_time": "2022-01-12T15:00:43.322Z"
   },
   {
    "duration": 3427,
    "start_time": "2022-01-12T15:00:47.391Z"
   },
   {
    "duration": 3612,
    "start_time": "2022-01-12T15:00:52.450Z"
   },
   {
    "duration": 3721,
    "start_time": "2022-01-12T15:01:23.520Z"
   },
   {
    "duration": 3815,
    "start_time": "2022-01-12T15:01:48.797Z"
   },
   {
    "duration": 40,
    "start_time": "2022-01-12T15:02:16.726Z"
   },
   {
    "duration": 43,
    "start_time": "2022-01-12T15:02:37.325Z"
   },
   {
    "duration": 47,
    "start_time": "2022-01-12T15:02:43.588Z"
   },
   {
    "duration": 19,
    "start_time": "2022-01-12T15:02:49.671Z"
   },
   {
    "duration": 3923,
    "start_time": "2022-01-12T15:03:23.136Z"
   },
   {
    "duration": 499,
    "start_time": "2022-01-12T15:04:17.813Z"
   },
   {
    "duration": 5455,
    "start_time": "2022-01-12T15:04:28.819Z"
   },
   {
    "duration": 343,
    "start_time": "2022-01-12T15:07:45.445Z"
   },
   {
    "duration": 614,
    "start_time": "2022-01-12T15:07:53.642Z"
   },
   {
    "duration": 4601,
    "start_time": "2022-01-12T15:08:03.805Z"
   },
   {
    "duration": 4119,
    "start_time": "2022-01-12T15:08:10.287Z"
   },
   {
    "duration": 7,
    "start_time": "2022-01-12T15:09:14.242Z"
   },
   {
    "duration": 478,
    "start_time": "2022-01-12T15:09:18.239Z"
   },
   {
    "duration": 600,
    "start_time": "2022-01-12T15:09:56.537Z"
   },
   {
    "duration": 597,
    "start_time": "2022-01-12T15:10:19.060Z"
   },
   {
    "duration": 611,
    "start_time": "2022-01-12T15:10:51.904Z"
   },
   {
    "duration": 714,
    "start_time": "2022-01-12T15:10:59.107Z"
   },
   {
    "duration": 330,
    "start_time": "2022-01-12T15:12:44.934Z"
   },
   {
    "duration": 314,
    "start_time": "2022-01-12T15:12:55.209Z"
   },
   {
    "duration": 1067,
    "start_time": "2022-01-12T15:13:09.937Z"
   },
   {
    "duration": 1018,
    "start_time": "2022-01-12T15:14:01.448Z"
   },
   {
    "duration": 1263,
    "start_time": "2022-01-12T15:14:23.073Z"
   },
   {
    "duration": 1388,
    "start_time": "2022-01-12T15:15:02.435Z"
   },
   {
    "duration": 1425,
    "start_time": "2022-01-12T15:15:30.711Z"
   },
   {
    "duration": 1145,
    "start_time": "2022-01-12T15:15:45.154Z"
   },
   {
    "duration": 1211,
    "start_time": "2022-01-12T15:16:26.901Z"
   },
   {
    "duration": 969,
    "start_time": "2022-01-12T15:16:42.440Z"
   },
   {
    "duration": 945,
    "start_time": "2022-01-12T15:16:53.915Z"
   },
   {
    "duration": 948,
    "start_time": "2022-01-12T15:17:06.918Z"
   },
   {
    "duration": 993,
    "start_time": "2022-01-12T15:17:16.877Z"
   },
   {
    "duration": 4,
    "start_time": "2022-01-12T15:22:02.238Z"
   },
   {
    "duration": 13,
    "start_time": "2022-01-12T15:22:08.269Z"
   },
   {
    "duration": 1021,
    "start_time": "2022-01-12T15:22:46.471Z"
   },
   {
    "duration": 14,
    "start_time": "2022-01-12T15:26:20.700Z"
   },
   {
    "duration": 855,
    "start_time": "2022-01-12T15:33:23.004Z"
   },
   {
    "duration": 12,
    "start_time": "2022-01-12T15:36:10.759Z"
   },
   {
    "duration": 1572,
    "start_time": "2022-01-12T15:38:42.322Z"
   },
   {
    "duration": 22,
    "start_time": "2022-01-12T15:38:44.810Z"
   },
   {
    "duration": 19,
    "start_time": "2022-01-12T15:38:45.125Z"
   },
   {
    "duration": 20,
    "start_time": "2022-01-12T15:38:45.565Z"
   },
   {
    "duration": 21,
    "start_time": "2022-01-12T15:38:46.173Z"
   },
   {
    "duration": 15,
    "start_time": "2022-01-12T15:38:46.593Z"
   },
   {
    "duration": 502,
    "start_time": "2022-01-12T15:38:47.227Z"
   },
   {
    "duration": 29,
    "start_time": "2022-01-12T15:38:47.732Z"
   },
   {
    "duration": 1102,
    "start_time": "2022-01-12T15:38:48.288Z"
   },
   {
    "duration": 839,
    "start_time": "2022-01-12T15:38:57.067Z"
   },
   {
    "duration": 681,
    "start_time": "2022-01-12T15:41:00.268Z"
   },
   {
    "duration": 379,
    "start_time": "2022-01-12T15:41:07.705Z"
   },
   {
    "duration": 372,
    "start_time": "2022-01-12T15:41:29.335Z"
   },
   {
    "duration": 20,
    "start_time": "2022-01-12T15:41:51.258Z"
   },
   {
    "duration": 7,
    "start_time": "2022-01-12T15:41:52.151Z"
   },
   {
    "duration": 656,
    "start_time": "2022-01-12T15:41:52.837Z"
   },
   {
    "duration": 12,
    "start_time": "2022-01-12T15:41:53.496Z"
   },
   {
    "duration": 1290,
    "start_time": "2022-01-12T15:41:53.751Z"
   },
   {
    "duration": 338,
    "start_time": "2022-01-12T15:41:56.151Z"
   },
   {
    "duration": 107,
    "start_time": "2022-01-12T15:42:22.807Z"
   },
   {
    "duration": 335,
    "start_time": "2022-01-12T15:42:36.372Z"
   },
   {
    "duration": 17,
    "start_time": "2022-01-12T15:42:45.115Z"
   },
   {
    "duration": 27,
    "start_time": "2022-01-12T15:42:49.946Z"
   },
   {
    "duration": 22,
    "start_time": "2022-01-12T15:43:14.311Z"
   },
   {
    "duration": 21,
    "start_time": "2022-01-12T15:43:24.875Z"
   },
   {
    "duration": 978,
    "start_time": "2022-01-12T15:43:42.047Z"
   },
   {
    "duration": 1197,
    "start_time": "2022-01-12T15:43:53.186Z"
   },
   {
    "duration": 1402,
    "start_time": "2022-01-12T15:44:46.629Z"
   },
   {
    "duration": 1345,
    "start_time": "2022-01-12T15:45:45.668Z"
   },
   {
    "duration": 1490,
    "start_time": "2022-01-12T15:45:56.422Z"
   },
   {
    "duration": 19,
    "start_time": "2022-01-12T15:47:00.556Z"
   },
   {
    "duration": 362,
    "start_time": "2022-01-12T15:48:03.557Z"
   },
   {
    "duration": 178,
    "start_time": "2022-01-12T15:49:27.984Z"
   },
   {
    "duration": 514,
    "start_time": "2022-01-12T15:49:32.696Z"
   },
   {
    "duration": 1380,
    "start_time": "2022-01-12T15:49:53.185Z"
   },
   {
    "duration": 987,
    "start_time": "2022-01-12T15:50:32.365Z"
   },
   {
    "duration": 1019,
    "start_time": "2022-01-12T15:50:51.405Z"
   },
   {
    "duration": 1299,
    "start_time": "2022-01-12T21:08:20.555Z"
   },
   {
    "duration": 12,
    "start_time": "2022-01-12T21:08:23.257Z"
   },
   {
    "duration": 10,
    "start_time": "2022-01-12T21:08:23.944Z"
   },
   {
    "duration": 15,
    "start_time": "2022-01-12T21:08:25.188Z"
   },
   {
    "duration": 15,
    "start_time": "2022-01-12T21:08:26.519Z"
   },
   {
    "duration": 10,
    "start_time": "2022-01-12T21:08:27.602Z"
   },
   {
    "duration": 299,
    "start_time": "2022-01-12T21:08:28.366Z"
   },
   {
    "duration": 11,
    "start_time": "2022-01-12T21:08:28.944Z"
   },
   {
    "duration": 953,
    "start_time": "2022-01-12T21:08:29.593Z"
   },
   {
    "duration": 797,
    "start_time": "2022-01-12T21:08:30.619Z"
   },
   {
    "duration": 728,
    "start_time": "2022-01-12T21:12:33.266Z"
   },
   {
    "duration": 982,
    "start_time": "2022-01-12T21:12:53.659Z"
   },
   {
    "duration": 843,
    "start_time": "2022-01-12T21:13:03.887Z"
   },
   {
    "duration": 27,
    "start_time": "2022-01-12T21:13:45.520Z"
   },
   {
    "duration": 724,
    "start_time": "2022-01-12T21:13:56.553Z"
   },
   {
    "duration": 744,
    "start_time": "2022-01-12T21:14:07.673Z"
   },
   {
    "duration": 791,
    "start_time": "2022-01-12T21:16:45.780Z"
   },
   {
    "duration": 767,
    "start_time": "2022-01-12T21:16:54.761Z"
   },
   {
    "duration": 845,
    "start_time": "2022-01-12T21:17:03.026Z"
   },
   {
    "duration": 767,
    "start_time": "2022-01-12T21:17:34.962Z"
   },
   {
    "duration": 834,
    "start_time": "2022-01-12T21:17:51.877Z"
   },
   {
    "duration": 784,
    "start_time": "2022-01-12T21:18:34.622Z"
   },
   {
    "duration": 248,
    "start_time": "2022-01-12T21:20:18.324Z"
   },
   {
    "duration": 380,
    "start_time": "2022-01-12T21:20:34.946Z"
   },
   {
    "duration": 400,
    "start_time": "2022-01-12T21:20:59.665Z"
   },
   {
    "duration": 389,
    "start_time": "2022-01-12T21:21:18.999Z"
   },
   {
    "duration": 380,
    "start_time": "2022-01-12T21:21:31.582Z"
   },
   {
    "duration": 289,
    "start_time": "2022-01-12T21:22:07.019Z"
   },
   {
    "duration": 531,
    "start_time": "2022-01-12T21:22:35.816Z"
   },
   {
    "duration": 637,
    "start_time": "2022-01-12T21:25:24.984Z"
   },
   {
    "duration": 484,
    "start_time": "2022-01-12T21:25:35.212Z"
   },
   {
    "duration": 544,
    "start_time": "2022-01-12T21:25:47.141Z"
   },
   {
    "duration": 701,
    "start_time": "2022-01-12T21:26:28.693Z"
   },
   {
    "duration": 240,
    "start_time": "2022-01-12T21:28:02.759Z"
   },
   {
    "duration": 546,
    "start_time": "2022-01-12T21:29:07.959Z"
   },
   {
    "duration": 328,
    "start_time": "2022-01-12T21:29:30.440Z"
   },
   {
    "duration": 246,
    "start_time": "2022-01-12T21:29:43.762Z"
   },
   {
    "duration": 495,
    "start_time": "2022-01-12T21:29:59.193Z"
   },
   {
    "duration": 387,
    "start_time": "2022-01-12T21:30:25.730Z"
   },
   {
    "duration": 283,
    "start_time": "2022-01-12T21:31:09.507Z"
   },
   {
    "duration": 477,
    "start_time": "2022-01-12T21:31:25.252Z"
   },
   {
    "duration": 460,
    "start_time": "2022-01-12T21:34:26.755Z"
   },
   {
    "duration": 264,
    "start_time": "2022-01-12T21:35:12.501Z"
   },
   {
    "duration": 230,
    "start_time": "2022-01-12T21:35:54.174Z"
   },
   {
    "duration": 227,
    "start_time": "2022-01-12T21:36:02.957Z"
   },
   {
    "duration": 20,
    "start_time": "2022-01-12T21:36:11.132Z"
   },
   {
    "duration": 26,
    "start_time": "2022-01-12T21:36:18.033Z"
   },
   {
    "duration": 19,
    "start_time": "2022-01-12T21:36:36.554Z"
   },
   {
    "duration": 431,
    "start_time": "2022-01-12T21:37:07.237Z"
   },
   {
    "duration": 602,
    "start_time": "2022-01-12T21:38:18.329Z"
   },
   {
    "duration": 251,
    "start_time": "2022-01-12T21:38:34.267Z"
   },
   {
    "duration": 76,
    "start_time": "2022-01-12T21:38:46.518Z"
   },
   {
    "duration": 253,
    "start_time": "2022-01-12T21:38:57.815Z"
   },
   {
    "duration": 67,
    "start_time": "2022-01-12T21:39:46.271Z"
   },
   {
    "duration": 389,
    "start_time": "2022-01-12T21:39:50.789Z"
   },
   {
    "duration": 488,
    "start_time": "2022-01-12T21:40:40.141Z"
   },
   {
    "duration": 391,
    "start_time": "2022-01-12T21:41:19.563Z"
   },
   {
    "duration": 414,
    "start_time": "2022-01-12T21:41:45.684Z"
   },
   {
    "duration": 406,
    "start_time": "2022-01-12T21:41:56.932Z"
   },
   {
    "duration": 409,
    "start_time": "2022-01-12T21:44:32.197Z"
   },
   {
    "duration": 426,
    "start_time": "2022-01-12T21:44:49.447Z"
   },
   {
    "duration": 74,
    "start_time": "2022-01-12T21:45:47.639Z"
   },
   {
    "duration": 398,
    "start_time": "2022-01-12T21:45:52.098Z"
   },
   {
    "duration": 467,
    "start_time": "2022-01-12T21:46:04.754Z"
   },
   {
    "duration": 853,
    "start_time": "2022-01-12T21:47:18.057Z"
   },
   {
    "duration": 863,
    "start_time": "2022-01-12T21:47:53.390Z"
   },
   {
    "duration": 41,
    "start_time": "2022-01-12T21:50:41.716Z"
   },
   {
    "duration": 74,
    "start_time": "2022-01-12T21:52:14.624Z"
   },
   {
    "duration": 247,
    "start_time": "2022-01-12T21:52:20.517Z"
   },
   {
    "duration": 753,
    "start_time": "2022-01-12T21:52:38.119Z"
   },
   {
    "duration": 382,
    "start_time": "2022-01-12T21:53:45.132Z"
   },
   {
    "duration": 241,
    "start_time": "2022-01-12T21:54:10.360Z"
   },
   {
    "duration": 264,
    "start_time": "2022-01-12T21:54:29.362Z"
   },
   {
    "duration": 355,
    "start_time": "2022-01-12T21:54:51.473Z"
   },
   {
    "duration": 311,
    "start_time": "2022-01-12T21:56:21.643Z"
   },
   {
    "duration": 462,
    "start_time": "2022-01-12T21:58:37.832Z"
   },
   {
    "duration": 218,
    "start_time": "2022-01-12T21:58:45.357Z"
   },
   {
    "duration": 271,
    "start_time": "2022-01-12T21:59:30.520Z"
   },
   {
    "duration": 267,
    "start_time": "2022-01-12T21:59:40.227Z"
   },
   {
    "duration": 238,
    "start_time": "2022-01-12T22:00:17.259Z"
   },
   {
    "duration": 875,
    "start_time": "2022-01-12T22:00:27.730Z"
   },
   {
    "duration": 763,
    "start_time": "2022-01-12T22:05:36.881Z"
   },
   {
    "duration": 837,
    "start_time": "2022-01-12T22:05:51.435Z"
   },
   {
    "duration": 521,
    "start_time": "2022-01-12T22:06:28.339Z"
   },
   {
    "duration": 329,
    "start_time": "2022-01-12T22:06:40.394Z"
   },
   {
    "duration": 603,
    "start_time": "2022-01-12T22:07:17.786Z"
   },
   {
    "duration": 597,
    "start_time": "2022-01-12T22:07:50.098Z"
   },
   {
    "duration": 1016,
    "start_time": "2022-01-12T22:08:05.270Z"
   },
   {
    "duration": 614,
    "start_time": "2022-01-12T22:08:23.119Z"
   },
   {
    "duration": 616,
    "start_time": "2022-01-12T22:08:28.982Z"
   },
   {
    "duration": 902,
    "start_time": "2022-01-12T22:08:42.333Z"
   },
   {
    "duration": 759,
    "start_time": "2022-01-12T22:09:11.425Z"
   },
   {
    "duration": 958,
    "start_time": "2022-01-12T22:09:19.955Z"
   },
   {
    "duration": 357,
    "start_time": "2022-01-12T22:11:09.877Z"
   },
   {
    "duration": 323,
    "start_time": "2022-01-12T22:11:28.072Z"
   },
   {
    "duration": 278,
    "start_time": "2022-01-12T22:15:02.094Z"
   },
   {
    "duration": 275,
    "start_time": "2022-01-12T22:15:12.017Z"
   },
   {
    "duration": 281,
    "start_time": "2022-01-12T22:15:58.122Z"
   },
   {
    "duration": 266,
    "start_time": "2022-01-12T22:16:03.810Z"
   },
   {
    "duration": 307,
    "start_time": "2022-01-12T22:16:20.839Z"
   },
   {
    "duration": 274,
    "start_time": "2022-01-12T22:17:25.710Z"
   },
   {
    "duration": 387,
    "start_time": "2022-01-12T22:18:19.161Z"
   },
   {
    "duration": 408,
    "start_time": "2022-01-12T22:19:31.928Z"
   },
   {
    "duration": 354,
    "start_time": "2022-01-12T22:19:48.512Z"
   },
   {
    "duration": 380,
    "start_time": "2022-01-12T22:19:55.457Z"
   },
   {
    "duration": 511,
    "start_time": "2022-01-12T22:20:06.323Z"
   },
   {
    "duration": 336,
    "start_time": "2022-01-12T22:20:16.158Z"
   },
   {
    "duration": 293,
    "start_time": "2022-01-12T22:20:22.080Z"
   },
   {
    "duration": 382,
    "start_time": "2022-01-12T22:22:59.167Z"
   },
   {
    "duration": 307,
    "start_time": "2022-01-12T22:23:17.777Z"
   },
   {
    "duration": 304,
    "start_time": "2022-01-12T22:23:33.812Z"
   },
   {
    "duration": 652,
    "start_time": "2022-01-12T22:24:48.519Z"
   },
   {
    "duration": 622,
    "start_time": "2022-01-12T22:25:33.830Z"
   },
   {
    "duration": 620,
    "start_time": "2022-01-12T22:27:03.268Z"
   },
   {
    "duration": 6,
    "start_time": "2022-01-12T22:27:22.236Z"
   },
   {
    "duration": 75,
    "start_time": "2022-01-12T22:28:50.178Z"
   },
   {
    "duration": 5,
    "start_time": "2022-01-12T22:29:04.475Z"
   },
   {
    "duration": 5,
    "start_time": "2022-01-12T22:29:11.126Z"
   },
   {
    "duration": 6,
    "start_time": "2022-01-12T22:29:16.747Z"
   },
   {
    "duration": 14,
    "start_time": "2022-01-12T22:29:52.182Z"
   },
   {
    "duration": 723,
    "start_time": "2022-01-12T22:29:56.986Z"
   },
   {
    "duration": 1208,
    "start_time": "2022-01-12T22:30:27.178Z"
   },
   {
    "duration": 11,
    "start_time": "2022-01-12T22:30:31.880Z"
   },
   {
    "duration": 10,
    "start_time": "2022-01-12T22:30:32.074Z"
   },
   {
    "duration": 15,
    "start_time": "2022-01-12T22:30:32.467Z"
   },
   {
    "duration": 15,
    "start_time": "2022-01-12T22:30:33.042Z"
   },
   {
    "duration": 9,
    "start_time": "2022-01-12T22:30:33.422Z"
   },
   {
    "duration": 288,
    "start_time": "2022-01-12T22:30:34.013Z"
   },
   {
    "duration": 11,
    "start_time": "2022-01-12T22:30:34.425Z"
   },
   {
    "duration": 790,
    "start_time": "2022-01-12T22:30:34.827Z"
   },
   {
    "duration": 495,
    "start_time": "2022-01-12T22:30:35.619Z"
   },
   {
    "duration": 306,
    "start_time": "2022-01-12T22:30:36.116Z"
   },
   {
    "duration": 6,
    "start_time": "2022-01-12T22:30:36.424Z"
   },
   {
    "duration": 1614,
    "start_time": "2022-01-13T10:49:44.788Z"
   },
   {
    "duration": 15,
    "start_time": "2022-01-13T10:49:47.711Z"
   },
   {
    "duration": 12,
    "start_time": "2022-01-13T10:49:48.232Z"
   },
   {
    "duration": 19,
    "start_time": "2022-01-13T10:49:49.017Z"
   },
   {
    "duration": 20,
    "start_time": "2022-01-13T10:49:49.949Z"
   },
   {
    "duration": 12,
    "start_time": "2022-01-13T10:49:50.452Z"
   },
   {
    "duration": 487,
    "start_time": "2022-01-13T10:49:51.332Z"
   },
   {
    "duration": 13,
    "start_time": "2022-01-13T10:49:52.931Z"
   },
   {
    "duration": 603,
    "start_time": "2022-01-13T10:50:09.594Z"
   },
   {
    "duration": 795,
    "start_time": "2022-01-13T10:50:52.728Z"
   },
   {
    "duration": 1345,
    "start_time": "2022-01-13T10:50:58.981Z"
   },
   {
    "duration": 724,
    "start_time": "2022-01-13T10:51:11.232Z"
   },
   {
    "duration": 11,
    "start_time": "2022-01-13T10:51:39.537Z"
   },
   {
    "duration": 11,
    "start_time": "2022-01-13T10:51:52.253Z"
   },
   {
    "duration": 1322,
    "start_time": "2022-01-13T10:52:07.643Z"
   },
   {
    "duration": 554,
    "start_time": "2022-01-13T10:52:31.887Z"
   },
   {
    "duration": 1756,
    "start_time": "2022-01-13T10:53:35.774Z"
   },
   {
    "duration": 1328,
    "start_time": "2022-01-13T10:54:01.907Z"
   },
   {
    "duration": 1356,
    "start_time": "2022-01-13T10:54:19.125Z"
   },
   {
    "duration": 1377,
    "start_time": "2022-01-13T10:55:40.061Z"
   },
   {
    "duration": 1584,
    "start_time": "2022-01-13T10:56:38.020Z"
   },
   {
    "duration": 561,
    "start_time": "2022-01-13T10:56:48.785Z"
   },
   {
    "duration": 548,
    "start_time": "2022-01-13T10:57:48.166Z"
   },
   {
    "duration": 443,
    "start_time": "2022-01-13T10:58:15.101Z"
   },
   {
    "duration": 446,
    "start_time": "2022-01-13T10:58:28.481Z"
   },
   {
    "duration": 318,
    "start_time": "2022-01-13T10:58:48.648Z"
   },
   {
    "duration": 488,
    "start_time": "2022-01-13T10:59:08.050Z"
   },
   {
    "duration": 486,
    "start_time": "2022-01-13T10:59:12.563Z"
   },
   {
    "duration": 546,
    "start_time": "2022-01-13T10:59:31.985Z"
   },
   {
    "duration": 461,
    "start_time": "2022-01-13T10:59:39.446Z"
   },
   {
    "duration": 473,
    "start_time": "2022-01-13T10:59:45.873Z"
   },
   {
    "duration": 455,
    "start_time": "2022-01-13T10:59:51.006Z"
   },
   {
    "duration": 455,
    "start_time": "2022-01-13T11:03:03.175Z"
   },
   {
    "duration": 580,
    "start_time": "2022-01-13T11:03:27.347Z"
   },
   {
    "duration": 400,
    "start_time": "2022-01-13T11:03:56.124Z"
   },
   {
    "duration": 451,
    "start_time": "2022-01-13T11:04:05.054Z"
   },
   {
    "duration": 416,
    "start_time": "2022-01-13T11:04:12.438Z"
   },
   {
    "duration": 875,
    "start_time": "2022-01-13T11:05:12.350Z"
   },
   {
    "duration": 8,
    "start_time": "2022-01-13T11:05:23.374Z"
   },
   {
    "duration": 7,
    "start_time": "2022-01-13T11:05:42.086Z"
   },
   {
    "duration": 9,
    "start_time": "2022-01-13T11:05:49.497Z"
   },
   {
    "duration": 930,
    "start_time": "2022-01-13T11:11:09.647Z"
   },
   {
    "duration": 1306,
    "start_time": "2022-01-13T11:11:17.541Z"
   },
   {
    "duration": 933,
    "start_time": "2022-01-13T11:14:18.731Z"
   },
   {
    "duration": 957,
    "start_time": "2022-01-13T11:15:01.293Z"
   },
   {
    "duration": 864,
    "start_time": "2022-01-13T11:15:21.879Z"
   },
   {
    "duration": 360,
    "start_time": "2022-01-13T11:17:29.941Z"
   },
   {
    "duration": 15,
    "start_time": "2022-01-13T11:17:47.158Z"
   },
   {
    "duration": 973,
    "start_time": "2022-01-13T11:19:35.832Z"
   },
   {
    "duration": 1056,
    "start_time": "2022-01-13T11:19:47.794Z"
   },
   {
    "duration": 963,
    "start_time": "2022-01-13T11:20:17.420Z"
   },
   {
    "duration": 1094,
    "start_time": "2022-01-13T11:20:32.313Z"
   },
   {
    "duration": 914,
    "start_time": "2022-01-13T11:20:52.021Z"
   },
   {
    "duration": 9884,
    "start_time": "2022-01-13T11:23:33.171Z"
   },
   {
    "duration": 31,
    "start_time": "2022-01-13T11:24:14.507Z"
   },
   {
    "duration": 16,
    "start_time": "2022-01-13T11:29:48.248Z"
   },
   {
    "duration": 352,
    "start_time": "2022-01-13T11:30:33.218Z"
   },
   {
    "duration": 3593,
    "start_time": "2022-01-13T11:30:49.461Z"
   },
   {
    "duration": 344,
    "start_time": "2022-01-13T11:31:15.917Z"
   },
   {
    "duration": 321,
    "start_time": "2022-01-13T11:31:37.389Z"
   },
   {
    "duration": 3758,
    "start_time": "2022-01-13T11:31:48.645Z"
   },
   {
    "duration": 3953,
    "start_time": "2022-01-13T11:32:00.939Z"
   },
   {
    "duration": 3950,
    "start_time": "2022-01-13T11:32:33.320Z"
   },
   {
    "duration": 4507,
    "start_time": "2022-01-13T11:33:03.526Z"
   },
   {
    "duration": 456,
    "start_time": "2022-01-13T11:33:31.189Z"
   },
   {
    "duration": 5296,
    "start_time": "2022-01-13T11:33:42.733Z"
   },
   {
    "duration": 5152,
    "start_time": "2022-01-13T11:34:21.554Z"
   },
   {
    "duration": 4492,
    "start_time": "2022-01-13T11:34:37.383Z"
   },
   {
    "duration": 6794,
    "start_time": "2022-01-13T11:35:04.079Z"
   },
   {
    "duration": 16,
    "start_time": "2022-01-13T11:35:17.566Z"
   },
   {
    "duration": 17,
    "start_time": "2022-01-13T11:36:22.928Z"
   },
   {
    "duration": 18,
    "start_time": "2022-01-13T11:36:48.849Z"
   },
   {
    "duration": 4533,
    "start_time": "2022-01-13T11:37:38.453Z"
   },
   {
    "duration": 6493,
    "start_time": "2022-01-13T11:38:04.516Z"
   },
   {
    "duration": 21,
    "start_time": "2022-01-13T11:38:16.790Z"
   },
   {
    "duration": 15,
    "start_time": "2022-01-13T11:38:41.302Z"
   },
   {
    "duration": 7202,
    "start_time": "2022-01-13T11:38:55.953Z"
   },
   {
    "duration": 41,
    "start_time": "2022-01-13T11:39:03.159Z"
   },
   {
    "duration": 16,
    "start_time": "2022-01-13T11:41:32.934Z"
   },
   {
    "duration": 17,
    "start_time": "2022-01-13T11:41:50.645Z"
   },
   {
    "duration": 17,
    "start_time": "2022-01-13T11:42:03.013Z"
   },
   {
    "duration": 16,
    "start_time": "2022-01-13T11:42:16.798Z"
   },
   {
    "duration": 24,
    "start_time": "2022-01-13T11:42:20.419Z"
   },
   {
    "duration": 44,
    "start_time": "2022-01-13T11:43:46.772Z"
   },
   {
    "duration": 47,
    "start_time": "2022-01-13T11:44:01.746Z"
   },
   {
    "duration": 53,
    "start_time": "2022-01-13T11:44:16.418Z"
   },
   {
    "duration": 9,
    "start_time": "2022-01-13T11:45:43.733Z"
   },
   {
    "duration": 11,
    "start_time": "2022-01-13T11:45:57.800Z"
   },
   {
    "duration": 306,
    "start_time": "2022-01-13T11:46:49.006Z"
   },
   {
    "duration": 296,
    "start_time": "2022-01-13T11:46:57.781Z"
   },
   {
    "duration": 644,
    "start_time": "2022-01-13T11:47:16.678Z"
   },
   {
    "duration": 10,
    "start_time": "2022-01-13T11:48:12.969Z"
   },
   {
    "duration": 10,
    "start_time": "2022-01-13T11:48:18.144Z"
   },
   {
    "duration": 173,
    "start_time": "2022-01-13T11:48:32.740Z"
   },
   {
    "duration": 153,
    "start_time": "2022-01-13T11:48:41.452Z"
   },
   {
    "duration": 259,
    "start_time": "2022-01-13T11:48:59.350Z"
   },
   {
    "duration": 507,
    "start_time": "2022-01-13T11:50:12.668Z"
   },
   {
    "duration": 427,
    "start_time": "2022-01-13T11:50:24.848Z"
   },
   {
    "duration": 473,
    "start_time": "2022-01-13T11:50:45.179Z"
   },
   {
    "duration": 460,
    "start_time": "2022-01-13T11:51:47.198Z"
   },
   {
    "duration": 459,
    "start_time": "2022-01-13T11:52:44.448Z"
   },
   {
    "duration": 868,
    "start_time": "2022-01-13T11:53:55.135Z"
   },
   {
    "duration": 757,
    "start_time": "2022-01-13T11:54:07.494Z"
   },
   {
    "duration": 1113,
    "start_time": "2022-01-13T11:54:38.322Z"
   },
   {
    "duration": 1114,
    "start_time": "2022-01-13T11:54:46.320Z"
   },
   {
    "duration": 709,
    "start_time": "2022-01-13T11:55:46.047Z"
   },
   {
    "duration": 1171,
    "start_time": "2022-01-13T11:56:15.821Z"
   },
   {
    "duration": 760,
    "start_time": "2022-01-13T11:56:33.519Z"
   },
   {
    "duration": 10,
    "start_time": "2022-01-13T12:34:25.554Z"
   },
   {
    "duration": 11,
    "start_time": "2022-01-13T12:35:01.312Z"
   },
   {
    "duration": 12,
    "start_time": "2022-01-13T12:35:16.905Z"
   },
   {
    "duration": 11,
    "start_time": "2022-01-13T12:35:20.982Z"
   },
   {
    "duration": 11,
    "start_time": "2022-01-13T12:36:36.509Z"
   },
   {
    "duration": 10,
    "start_time": "2022-01-13T12:50:08.043Z"
   },
   {
    "duration": 22,
    "start_time": "2022-01-13T12:52:30.905Z"
   },
   {
    "duration": 115,
    "start_time": "2022-01-13T13:12:10.254Z"
   },
   {
    "duration": 28,
    "start_time": "2022-01-13T13:12:18.687Z"
   },
   {
    "duration": 29,
    "start_time": "2022-01-13T13:12:41.333Z"
   },
   {
    "duration": 27,
    "start_time": "2022-01-13T13:12:54.471Z"
   },
   {
    "duration": 18,
    "start_time": "2022-01-13T13:13:22.697Z"
   },
   {
    "duration": 41,
    "start_time": "2022-01-13T13:13:49.832Z"
   },
   {
    "duration": 314,
    "start_time": "2022-01-13T13:14:26.658Z"
   },
   {
    "duration": 628,
    "start_time": "2022-01-13T13:14:37.118Z"
   },
   {
    "duration": 801,
    "start_time": "2022-01-13T13:16:14.294Z"
   },
   {
    "duration": 1234,
    "start_time": "2022-01-13T13:19:16.592Z"
   },
   {
    "duration": 931,
    "start_time": "2022-01-13T13:19:23.172Z"
   },
   {
    "duration": 813,
    "start_time": "2022-01-13T13:19:44.122Z"
   },
   {
    "duration": 1104,
    "start_time": "2022-01-13T13:20:39.796Z"
   },
   {
    "duration": 832,
    "start_time": "2022-01-13T13:21:14.380Z"
   },
   {
    "duration": 31,
    "start_time": "2022-01-13T13:21:45.415Z"
   },
   {
    "duration": 24,
    "start_time": "2022-01-13T13:22:54.138Z"
   },
   {
    "duration": 17,
    "start_time": "2022-01-13T13:25:29.703Z"
   },
   {
    "duration": 348,
    "start_time": "2022-01-13T13:26:01.217Z"
   },
   {
    "duration": 171,
    "start_time": "2022-01-13T13:26:56.861Z"
   },
   {
    "duration": 111,
    "start_time": "2022-01-13T13:30:10.480Z"
   },
   {
    "duration": 361,
    "start_time": "2022-01-13T13:30:16.547Z"
   },
   {
    "duration": 81,
    "start_time": "2022-01-13T13:30:24.006Z"
   },
   {
    "duration": 84,
    "start_time": "2022-01-13T13:30:38.199Z"
   },
   {
    "duration": 69,
    "start_time": "2022-01-13T13:30:48.898Z"
   },
   {
    "duration": 56,
    "start_time": "2022-01-13T13:30:52.147Z"
   },
   {
    "duration": 17,
    "start_time": "2022-01-13T13:35:05.922Z"
   },
   {
    "duration": 26,
    "start_time": "2022-01-13T13:35:11.288Z"
   },
   {
    "duration": 853,
    "start_time": "2022-01-13T13:36:31.592Z"
   },
   {
    "duration": 375,
    "start_time": "2022-01-13T13:36:45.008Z"
   },
   {
    "duration": 9712,
    "start_time": "2022-01-13T13:36:57.240Z"
   },
   {
    "duration": 40,
    "start_time": "2022-01-13T13:37:51.776Z"
   },
   {
    "duration": 57,
    "start_time": "2022-01-13T13:38:25.371Z"
   },
   {
    "duration": 377,
    "start_time": "2022-01-13T13:39:09.254Z"
   },
   {
    "duration": 273,
    "start_time": "2022-01-13T13:39:27.612Z"
   },
   {
    "duration": 292,
    "start_time": "2022-01-13T13:39:53.336Z"
   },
   {
    "duration": 462,
    "start_time": "2022-01-13T13:40:13.328Z"
   },
   {
    "duration": 626,
    "start_time": "2022-01-13T13:42:29.560Z"
   },
   {
    "duration": 497,
    "start_time": "2022-01-13T13:42:41.537Z"
   },
   {
    "duration": 772,
    "start_time": "2022-01-13T13:43:39.645Z"
   },
   {
    "duration": 472,
    "start_time": "2022-01-13T13:44:25.720Z"
   },
   {
    "duration": 496,
    "start_time": "2022-01-13T13:45:15.034Z"
   },
   {
    "duration": 477,
    "start_time": "2022-01-13T13:46:24.857Z"
   },
   {
    "duration": 531,
    "start_time": "2022-01-13T13:47:00.697Z"
   },
   {
    "duration": 2088,
    "start_time": "2022-01-13T13:47:56.389Z"
   },
   {
    "duration": 1583,
    "start_time": "2022-01-13T13:53:19.419Z"
   },
   {
    "duration": 65,
    "start_time": "2022-01-13T13:53:23.222Z"
   },
   {
    "duration": 17,
    "start_time": "2022-01-13T13:53:26.247Z"
   },
   {
    "duration": 15,
    "start_time": "2022-01-13T13:53:26.876Z"
   },
   {
    "duration": 20,
    "start_time": "2022-01-13T13:53:27.522Z"
   },
   {
    "duration": 21,
    "start_time": "2022-01-13T13:53:28.478Z"
   },
   {
    "duration": 12,
    "start_time": "2022-01-13T13:53:28.910Z"
   },
   {
    "duration": 1083,
    "start_time": "2022-01-13T13:53:29.592Z"
   },
   {
    "duration": 31,
    "start_time": "2022-01-13T13:53:30.679Z"
   },
   {
    "duration": 1387,
    "start_time": "2022-01-13T13:53:30.713Z"
   },
   {
    "duration": 1449,
    "start_time": "2022-01-13T13:53:35.355Z"
   },
   {
    "duration": 551,
    "start_time": "2022-01-13T13:53:37.672Z"
   },
   {
    "duration": 5027,
    "start_time": "2022-01-13T13:53:38.941Z"
   },
   {
    "duration": 31,
    "start_time": "2022-01-13T13:53:43.972Z"
   },
   {
    "duration": 43,
    "start_time": "2022-01-13T13:53:44.007Z"
   },
   {
    "duration": 477,
    "start_time": "2022-01-13T13:53:47.386Z"
   },
   {
    "duration": 773,
    "start_time": "2022-01-13T13:53:54.721Z"
   },
   {
    "duration": 832,
    "start_time": "2022-01-13T13:54:01.336Z"
   },
   {
    "duration": 23,
    "start_time": "2022-01-13T13:54:03.058Z"
   },
   {
    "duration": 23,
    "start_time": "2022-01-13T13:54:23.538Z"
   },
   {
    "duration": 35,
    "start_time": "2022-01-13T13:55:03.185Z"
   },
   {
    "duration": 1995,
    "start_time": "2022-01-13T14:29:10.798Z"
   },
   {
    "duration": 1954,
    "start_time": "2022-01-13T14:30:26.782Z"
   },
   {
    "duration": 21,
    "start_time": "2022-01-13T14:36:33.346Z"
   },
   {
    "duration": 9,
    "start_time": "2022-01-13T14:37:00.619Z"
   },
   {
    "duration": 8214,
    "start_time": "2022-01-13T14:37:51.268Z"
   },
   {
    "duration": 591,
    "start_time": "2022-01-13T14:38:15.096Z"
   },
   {
    "duration": 387,
    "start_time": "2022-01-13T14:38:21.043Z"
   },
   {
    "duration": 564,
    "start_time": "2022-01-13T14:40:01.906Z"
   },
   {
    "duration": 113,
    "start_time": "2022-01-13T14:43:47.577Z"
   },
   {
    "duration": 1077,
    "start_time": "2022-01-13T14:43:57.002Z"
   },
   {
    "duration": 109,
    "start_time": "2022-01-13T14:44:43.692Z"
   },
   {
    "duration": 1515,
    "start_time": "2022-01-13T14:44:52.887Z"
   },
   {
    "duration": 1924,
    "start_time": "2022-01-13T20:32:09.405Z"
   },
   {
    "duration": 14,
    "start_time": "2022-01-13T20:32:13.078Z"
   },
   {
    "duration": 13,
    "start_time": "2022-01-13T20:32:13.677Z"
   },
   {
    "duration": 20,
    "start_time": "2022-01-13T20:32:14.577Z"
   },
   {
    "duration": 20,
    "start_time": "2022-01-13T21:05:49.968Z"
   },
   {
    "duration": 20,
    "start_time": "2022-01-13T21:05:56.141Z"
   },
   {
    "duration": 28,
    "start_time": "2022-01-13T21:05:57.547Z"
   },
   {
    "duration": 697,
    "start_time": "2022-01-13T21:05:58.212Z"
   },
   {
    "duration": 18,
    "start_time": "2022-01-13T21:05:59.102Z"
   },
   {
    "duration": 1509,
    "start_time": "2022-01-13T21:06:03.702Z"
   },
   {
    "duration": 1515,
    "start_time": "2022-01-13T21:06:10.608Z"
   },
   {
    "duration": 568,
    "start_time": "2022-01-13T21:06:13.139Z"
   },
   {
    "duration": 4656,
    "start_time": "2022-01-13T21:06:19.219Z"
   },
   {
    "duration": 16,
    "start_time": "2022-01-13T21:06:27.187Z"
   },
   {
    "duration": 42,
    "start_time": "2022-01-13T21:06:28.200Z"
   },
   {
    "duration": 461,
    "start_time": "2022-01-13T21:06:30.197Z"
   },
   {
    "duration": 755,
    "start_time": "2022-01-13T21:06:32.912Z"
   },
   {
    "duration": 893,
    "start_time": "2022-01-13T21:06:37.365Z"
   },
   {
    "duration": 24,
    "start_time": "2022-01-13T21:06:41.437Z"
   },
   {
    "duration": 1995,
    "start_time": "2022-01-13T21:06:46.318Z"
   },
   {
    "duration": 22,
    "start_time": "2022-01-13T21:06:54.853Z"
   },
   {
    "duration": 770,
    "start_time": "2022-01-13T21:06:57.799Z"
   },
   {
    "duration": 387,
    "start_time": "2022-01-13T21:15:15.525Z"
   },
   {
    "duration": 67,
    "start_time": "2022-01-13T21:15:41.516Z"
   },
   {
    "duration": 17,
    "start_time": "2022-01-13T21:15:47.359Z"
   },
   {
    "duration": 16,
    "start_time": "2022-01-13T21:16:46.992Z"
   },
   {
    "duration": 16,
    "start_time": "2022-01-13T21:18:03.399Z"
   },
   {
    "duration": 16,
    "start_time": "2022-01-13T21:18:24.755Z"
   },
   {
    "duration": 161,
    "start_time": "2022-01-13T21:20:29.141Z"
   },
   {
    "duration": 257,
    "start_time": "2022-01-13T21:20:39.759Z"
   },
   {
    "duration": 15,
    "start_time": "2022-01-13T21:20:52.083Z"
   },
   {
    "duration": 1534,
    "start_time": "2022-01-13T21:22:19.372Z"
   },
   {
    "duration": 15,
    "start_time": "2022-01-13T21:22:21.950Z"
   },
   {
    "duration": 13,
    "start_time": "2022-01-13T21:22:22.256Z"
   },
   {
    "duration": 19,
    "start_time": "2022-01-13T21:22:22.744Z"
   },
   {
    "duration": 19,
    "start_time": "2022-01-13T21:22:23.465Z"
   },
   {
    "duration": 13,
    "start_time": "2022-01-13T21:22:23.882Z"
   },
   {
    "duration": 673,
    "start_time": "2022-01-13T21:22:24.524Z"
   },
   {
    "duration": 14,
    "start_time": "2022-01-13T21:22:25.201Z"
   },
   {
    "duration": 1334,
    "start_time": "2022-01-13T21:22:25.568Z"
   },
   {
    "duration": 1444,
    "start_time": "2022-01-13T21:22:26.905Z"
   },
   {
    "duration": 578,
    "start_time": "2022-01-13T21:22:28.352Z"
   },
   {
    "duration": 4949,
    "start_time": "2022-01-13T21:22:28.933Z"
   },
   {
    "duration": 17,
    "start_time": "2022-01-13T21:22:33.885Z"
   },
   {
    "duration": 69,
    "start_time": "2022-01-13T21:22:33.905Z"
   },
   {
    "duration": 447,
    "start_time": "2022-01-13T21:22:37.679Z"
   },
   {
    "duration": 754,
    "start_time": "2022-01-13T21:22:38.129Z"
   },
   {
    "duration": 922,
    "start_time": "2022-01-13T21:22:38.999Z"
   },
   {
    "duration": 39,
    "start_time": "2022-01-13T21:22:39.924Z"
   },
   {
    "duration": 2023,
    "start_time": "2022-01-13T21:22:40.762Z"
   },
   {
    "duration": 22,
    "start_time": "2022-01-13T21:22:42.788Z"
   },
   {
    "duration": 691,
    "start_time": "2022-01-13T21:22:42.814Z"
   },
   {
    "duration": 390,
    "start_time": "2022-01-13T21:22:43.508Z"
   },
   {
    "duration": 17,
    "start_time": "2022-01-13T21:22:57.009Z"
   },
   {
    "duration": 281,
    "start_time": "2022-01-13T21:23:03.608Z"
   },
   {
    "duration": 17,
    "start_time": "2022-01-13T21:23:10.290Z"
   },
   {
    "duration": 23,
    "start_time": "2022-01-13T21:24:03.536Z"
   },
   {
    "duration": 22,
    "start_time": "2022-01-13T21:25:46.502Z"
   },
   {
    "duration": 24,
    "start_time": "2022-01-13T21:26:00.085Z"
   },
   {
    "duration": 4554,
    "start_time": "2022-01-13T21:26:43.225Z"
   },
   {
    "duration": 3340,
    "start_time": "2022-01-13T21:27:06.949Z"
   },
   {
    "duration": 4741,
    "start_time": "2022-01-13T21:28:29.620Z"
   },
   {
    "duration": 3150,
    "start_time": "2022-01-13T21:29:32.833Z"
   },
   {
    "duration": 1523,
    "start_time": "2022-01-13T21:29:47.587Z"
   },
   {
    "duration": 14,
    "start_time": "2022-01-13T21:29:49.113Z"
   },
   {
    "duration": 11,
    "start_time": "2022-01-13T21:29:49.130Z"
   },
   {
    "duration": 39,
    "start_time": "2022-01-13T21:29:49.143Z"
   },
   {
    "duration": 19,
    "start_time": "2022-01-13T21:29:49.440Z"
   },
   {
    "duration": 12,
    "start_time": "2022-01-13T21:29:49.827Z"
   },
   {
    "duration": 672,
    "start_time": "2022-01-13T21:29:50.419Z"
   },
   {
    "duration": 13,
    "start_time": "2022-01-13T21:29:51.093Z"
   },
   {
    "duration": 1323,
    "start_time": "2022-01-13T21:29:51.177Z"
   },
   {
    "duration": 1457,
    "start_time": "2022-01-13T21:29:52.503Z"
   },
   {
    "duration": 578,
    "start_time": "2022-01-13T21:29:53.963Z"
   },
   {
    "duration": 4864,
    "start_time": "2022-01-13T21:29:54.543Z"
   },
   {
    "duration": 29,
    "start_time": "2022-01-13T21:29:59.416Z"
   },
   {
    "duration": 80,
    "start_time": "2022-01-13T21:29:59.449Z"
   },
   {
    "duration": 522,
    "start_time": "2022-01-13T21:29:59.536Z"
   },
   {
    "duration": 762,
    "start_time": "2022-01-13T21:30:00.061Z"
   },
   {
    "duration": 839,
    "start_time": "2022-01-13T21:30:00.827Z"
   },
   {
    "duration": 23,
    "start_time": "2022-01-13T21:30:01.668Z"
   },
   {
    "duration": 2023,
    "start_time": "2022-01-13T21:30:01.693Z"
   },
   {
    "duration": 26,
    "start_time": "2022-01-13T21:30:03.719Z"
   },
   {
    "duration": 681,
    "start_time": "2022-01-13T21:30:03.763Z"
   },
   {
    "duration": 5808,
    "start_time": "2022-01-13T21:30:04.447Z"
   },
   {
    "duration": -132,
    "start_time": "2022-01-13T21:30:10.390Z"
   },
   {
    "duration": 14,
    "start_time": "2022-01-13T21:30:47.644Z"
   },
   {
    "duration": 18,
    "start_time": "2022-01-13T21:31:05.262Z"
   },
   {
    "duration": 253,
    "start_time": "2022-01-13T21:31:25.510Z"
   },
   {
    "duration": 17,
    "start_time": "2022-01-13T21:31:33.036Z"
   },
   {
    "duration": 1361,
    "start_time": "2022-01-13T21:32:57.462Z"
   },
   {
    "duration": 553,
    "start_time": "2022-01-13T21:33:00.026Z"
   },
   {
    "duration": 91,
    "start_time": "2022-01-13T21:34:50.544Z"
   },
   {
    "duration": 1393,
    "start_time": "2022-01-13T21:35:08.358Z"
   },
   {
    "duration": 549,
    "start_time": "2022-01-13T21:35:10.056Z"
   },
   {
    "duration": 5303,
    "start_time": "2022-01-13T21:50:19.501Z"
   },
   {
    "duration": 17,
    "start_time": "2022-01-13T21:50:29.992Z"
   },
   {
    "duration": 41,
    "start_time": "2022-01-13T21:50:35.679Z"
   },
   {
    "duration": 41,
    "start_time": "2022-01-13T21:51:57.396Z"
   },
   {
    "duration": 18,
    "start_time": "2022-01-13T21:57:28.780Z"
   },
   {
    "duration": 16,
    "start_time": "2022-01-13T21:57:57.025Z"
   },
   {
    "duration": 18,
    "start_time": "2022-01-13T21:58:10.933Z"
   },
   {
    "duration": 82,
    "start_time": "2022-01-13T21:58:21.262Z"
   },
   {
    "duration": 17,
    "start_time": "2022-01-13T21:58:27.085Z"
   },
   {
    "duration": 4674,
    "start_time": "2022-01-13T22:00:27.685Z"
   },
   {
    "duration": 18,
    "start_time": "2022-01-13T22:00:40.601Z"
   },
   {
    "duration": 43,
    "start_time": "2022-01-13T22:01:13.940Z"
   },
   {
    "duration": 739,
    "start_time": "2022-01-13T22:05:34.440Z"
   },
   {
    "duration": 3,
    "start_time": "2022-01-13T22:06:19.904Z"
   },
   {
    "duration": 714,
    "start_time": "2022-01-13T22:06:34.664Z"
   },
   {
    "duration": 815,
    "start_time": "2022-01-13T22:10:34.653Z"
   },
   {
    "duration": 901,
    "start_time": "2022-01-13T22:14:37.622Z"
   },
   {
    "duration": 550,
    "start_time": "2022-01-13T22:19:27.959Z"
   },
   {
    "duration": 17,
    "start_time": "2022-01-13T22:27:14.031Z"
   },
   {
    "duration": 541,
    "start_time": "2022-01-13T22:31:36.791Z"
   },
   {
    "duration": 1525,
    "start_time": "2022-01-13T22:37:47.282Z"
   },
   {
    "duration": 17,
    "start_time": "2022-01-13T22:37:51.145Z"
   },
   {
    "duration": 14,
    "start_time": "2022-01-13T22:37:52.786Z"
   },
   {
    "duration": 19,
    "start_time": "2022-01-13T22:37:53.965Z"
   },
   {
    "duration": 23,
    "start_time": "2022-01-13T22:37:54.888Z"
   },
   {
    "duration": 12,
    "start_time": "2022-01-13T22:37:55.630Z"
   },
   {
    "duration": 650,
    "start_time": "2022-01-13T22:37:56.905Z"
   },
   {
    "duration": 16,
    "start_time": "2022-01-13T22:37:57.558Z"
   },
   {
    "duration": 1300,
    "start_time": "2022-01-13T22:37:57.965Z"
   },
   {
    "duration": 1458,
    "start_time": "2022-01-13T22:37:59.268Z"
   },
   {
    "duration": 590,
    "start_time": "2022-01-13T22:38:00.729Z"
   },
   {
    "duration": 4844,
    "start_time": "2022-01-13T22:38:01.322Z"
   },
   {
    "duration": 15,
    "start_time": "2022-01-13T22:38:06.169Z"
   },
   {
    "duration": 42,
    "start_time": "2022-01-13T22:38:10.969Z"
   },
   {
    "duration": 470,
    "start_time": "2022-01-13T22:38:13.614Z"
   },
   {
    "duration": 728,
    "start_time": "2022-01-13T22:38:15.945Z"
   },
   {
    "duration": 909,
    "start_time": "2022-01-13T22:38:19.919Z"
   },
   {
    "duration": 22,
    "start_time": "2022-01-13T22:38:22.042Z"
   },
   {
    "duration": 2143,
    "start_time": "2022-01-13T22:38:23.611Z"
   },
   {
    "duration": 26,
    "start_time": "2022-01-13T22:38:25.757Z"
   },
   {
    "duration": 633,
    "start_time": "2022-01-13T22:38:26.876Z"
   },
   {
    "duration": 24,
    "start_time": "2022-01-13T22:38:29.492Z"
   },
   {
    "duration": 15,
    "start_time": "2022-01-13T22:41:14.869Z"
   },
   {
    "duration": 570,
    "start_time": "2022-01-13T22:52:13.745Z"
   },
   {
    "duration": 1605,
    "start_time": "2022-01-13T22:59:06.999Z"
   },
   {
    "duration": 1508,
    "start_time": "2022-01-13T22:59:11.174Z"
   },
   {
    "duration": 15,
    "start_time": "2022-01-13T22:59:13.361Z"
   },
   {
    "duration": 12,
    "start_time": "2022-01-13T22:59:13.662Z"
   },
   {
    "duration": 19,
    "start_time": "2022-01-13T22:59:14.088Z"
   },
   {
    "duration": 19,
    "start_time": "2022-01-13T22:59:14.820Z"
   },
   {
    "duration": 12,
    "start_time": "2022-01-13T22:59:15.236Z"
   },
   {
    "duration": 377,
    "start_time": "2022-01-13T22:59:15.824Z"
   },
   {
    "duration": 14,
    "start_time": "2022-01-13T22:59:16.299Z"
   },
   {
    "duration": 1327,
    "start_time": "2022-01-13T22:59:16.720Z"
   },
   {
    "duration": 1565,
    "start_time": "2022-01-13T22:59:18.050Z"
   },
   {
    "duration": 555,
    "start_time": "2022-01-13T22:59:22.577Z"
   },
   {
    "duration": 4637,
    "start_time": "2022-01-13T22:59:24.601Z"
   },
   {
    "duration": 32,
    "start_time": "2022-01-13T22:59:29.240Z"
   },
   {
    "duration": 42,
    "start_time": "2022-01-13T22:59:30.661Z"
   },
   {
    "duration": 561,
    "start_time": "2022-01-13T22:59:34.766Z"
   },
   {
    "duration": 715,
    "start_time": "2022-01-13T22:59:35.587Z"
   },
   {
    "duration": 814,
    "start_time": "2022-01-13T22:59:38.329Z"
   },
   {
    "duration": 23,
    "start_time": "2022-01-13T22:59:40.091Z"
   },
   {
    "duration": 1971,
    "start_time": "2022-01-13T22:59:41.349Z"
   },
   {
    "duration": 46,
    "start_time": "2022-01-13T22:59:43.324Z"
   },
   {
    "duration": 541,
    "start_time": "2022-01-13T22:59:53.632Z"
   },
   {
    "duration": 18,
    "start_time": "2022-01-13T23:00:29.012Z"
   },
   {
    "duration": 15,
    "start_time": "2022-01-13T23:00:30.614Z"
   },
   {
    "duration": 16,
    "start_time": "2022-01-13T23:01:47.886Z"
   },
   {
    "duration": 14,
    "start_time": "2022-01-13T23:01:48.908Z"
   },
   {
    "duration": 1782,
    "start_time": "2022-01-16T11:50:56.523Z"
   },
   {
    "duration": 14,
    "start_time": "2022-01-16T11:50:58.308Z"
   },
   {
    "duration": 13,
    "start_time": "2022-01-16T11:50:58.325Z"
   },
   {
    "duration": 34,
    "start_time": "2022-01-16T11:50:58.342Z"
   },
   {
    "duration": 18,
    "start_time": "2022-01-16T11:50:58.379Z"
   },
   {
    "duration": 10,
    "start_time": "2022-01-16T11:50:58.399Z"
   },
   {
    "duration": 498,
    "start_time": "2022-01-16T11:50:58.411Z"
   },
   {
    "duration": -5877,
    "start_time": "2022-01-16T11:51:04.790Z"
   },
   {
    "duration": -5888,
    "start_time": "2022-01-16T11:51:04.802Z"
   },
   {
    "duration": -5888,
    "start_time": "2022-01-16T11:51:04.804Z"
   },
   {
    "duration": -5888,
    "start_time": "2022-01-16T11:51:04.805Z"
   },
   {
    "duration": -5887,
    "start_time": "2022-01-16T11:51:04.806Z"
   },
   {
    "duration": -5887,
    "start_time": "2022-01-16T11:51:04.807Z"
   },
   {
    "duration": -5888,
    "start_time": "2022-01-16T11:51:04.809Z"
   },
   {
    "duration": -5887,
    "start_time": "2022-01-16T11:51:04.810Z"
   },
   {
    "duration": -5889,
    "start_time": "2022-01-16T11:51:04.814Z"
   },
   {
    "duration": -5889,
    "start_time": "2022-01-16T11:51:04.815Z"
   },
   {
    "duration": -5889,
    "start_time": "2022-01-16T11:51:04.816Z"
   },
   {
    "duration": -5889,
    "start_time": "2022-01-16T11:51:04.818Z"
   },
   {
    "duration": -5889,
    "start_time": "2022-01-16T11:51:04.819Z"
   },
   {
    "duration": -5887,
    "start_time": "2022-01-16T11:51:04.819Z"
   },
   {
    "duration": -5890,
    "start_time": "2022-01-16T11:51:04.823Z"
   },
   {
    "duration": -5894,
    "start_time": "2022-01-16T11:51:04.829Z"
   },
   {
    "duration": 64,
    "start_time": "2022-01-16T11:52:08.198Z"
   },
   {
    "duration": 13,
    "start_time": "2022-01-16T11:52:08.265Z"
   },
   {
    "duration": 12,
    "start_time": "2022-01-16T11:52:08.281Z"
   },
   {
    "duration": 16,
    "start_time": "2022-01-16T11:52:08.296Z"
   },
   {
    "duration": 59,
    "start_time": "2022-01-16T11:52:08.314Z"
   },
   {
    "duration": 8,
    "start_time": "2022-01-16T11:52:08.376Z"
   },
   {
    "duration": 311,
    "start_time": "2022-01-16T11:52:08.386Z"
   },
   {
    "duration": -5886,
    "start_time": "2022-01-16T11:52:14.586Z"
   },
   {
    "duration": -5886,
    "start_time": "2022-01-16T11:52:14.588Z"
   },
   {
    "duration": -5890,
    "start_time": "2022-01-16T11:52:14.593Z"
   },
   {
    "duration": -5890,
    "start_time": "2022-01-16T11:52:14.594Z"
   },
   {
    "duration": -5889,
    "start_time": "2022-01-16T11:52:14.595Z"
   },
   {
    "duration": -5889,
    "start_time": "2022-01-16T11:52:14.596Z"
   },
   {
    "duration": -5889,
    "start_time": "2022-01-16T11:52:14.597Z"
   },
   {
    "duration": -5888,
    "start_time": "2022-01-16T11:52:14.598Z"
   },
   {
    "duration": -5888,
    "start_time": "2022-01-16T11:52:14.599Z"
   },
   {
    "duration": -5888,
    "start_time": "2022-01-16T11:52:14.600Z"
   },
   {
    "duration": -5890,
    "start_time": "2022-01-16T11:52:14.603Z"
   },
   {
    "duration": -5889,
    "start_time": "2022-01-16T11:52:14.604Z"
   },
   {
    "duration": -5894,
    "start_time": "2022-01-16T11:52:14.610Z"
   },
   {
    "duration": -5894,
    "start_time": "2022-01-16T11:52:14.611Z"
   },
   {
    "duration": -5894,
    "start_time": "2022-01-16T11:52:14.612Z"
   },
   {
    "duration": -5893,
    "start_time": "2022-01-16T11:52:14.613Z"
   },
   {
    "duration": 13,
    "start_time": "2022-01-16T11:56:57.824Z"
   },
   {
    "duration": 1331,
    "start_time": "2022-01-16T11:56:57.840Z"
   },
   {
    "duration": 1703,
    "start_time": "2022-01-16T11:56:59.174Z"
   },
   {
    "duration": 665,
    "start_time": "2022-01-16T11:57:00.880Z"
   },
   {
    "duration": 4866,
    "start_time": "2022-01-16T11:57:01.547Z"
   },
   {
    "duration": 17,
    "start_time": "2022-01-16T11:57:06.415Z"
   },
   {
    "duration": 63,
    "start_time": "2022-01-16T11:57:06.434Z"
   },
   {
    "duration": 560,
    "start_time": "2022-01-16T11:57:06.499Z"
   },
   {
    "duration": 716,
    "start_time": "2022-01-16T11:57:07.065Z"
   },
   {
    "duration": 822,
    "start_time": "2022-01-16T11:57:07.784Z"
   },
   {
    "duration": 24,
    "start_time": "2022-01-16T11:57:08.608Z"
   },
   {
    "duration": 2074,
    "start_time": "2022-01-16T11:57:08.635Z"
   },
   {
    "duration": 28,
    "start_time": "2022-01-16T11:57:10.712Z"
   },
   {
    "duration": 580,
    "start_time": "2022-01-16T11:57:10.743Z"
   },
   {
    "duration": 17,
    "start_time": "2022-01-16T11:57:11.326Z"
   },
   {
    "duration": 28,
    "start_time": "2022-01-16T11:57:11.346Z"
   },
   {
    "duration": 35,
    "start_time": "2022-01-16T12:06:32.525Z"
   },
   {
    "duration": 302,
    "start_time": "2022-01-16T12:09:53.252Z"
   },
   {
    "duration": 479,
    "start_time": "2022-01-16T12:10:02.472Z"
   },
   {
    "duration": 546,
    "start_time": "2022-01-16T12:10:11.656Z"
   },
   {
    "duration": 137,
    "start_time": "2022-01-17T20:07:25.106Z"
   },
   {
    "duration": 42,
    "start_time": "2022-01-17T20:07:35.998Z"
   },
   {
    "duration": 44,
    "start_time": "2022-01-17T20:07:56.419Z"
   },
   {
    "duration": 1141,
    "start_time": "2022-01-17T20:10:39.571Z"
   },
   {
    "duration": 11,
    "start_time": "2022-01-17T20:10:43.264Z"
   },
   {
    "duration": 10,
    "start_time": "2022-01-17T20:10:43.986Z"
   },
   {
    "duration": 13,
    "start_time": "2022-01-17T20:10:48.053Z"
   },
   {
    "duration": 13,
    "start_time": "2022-01-17T20:10:54.486Z"
   },
   {
    "duration": 3165,
    "start_time": "2022-01-17T20:11:22.326Z"
   },
   {
    "duration": 3284,
    "start_time": "2022-01-17T20:11:37.958Z"
   },
   {
    "duration": 6,
    "start_time": "2022-01-17T20:11:49.452Z"
   },
   {
    "duration": 409,
    "start_time": "2022-01-17T20:12:37.723Z"
   },
   {
    "duration": 11,
    "start_time": "2022-01-17T20:13:29.310Z"
   },
   {
    "duration": 814,
    "start_time": "2022-01-17T20:13:34.642Z"
   },
   {
    "duration": 878,
    "start_time": "2022-01-17T20:14:16.233Z"
   },
   {
    "duration": 851,
    "start_time": "2022-01-17T20:14:50.903Z"
   },
   {
    "duration": 345,
    "start_time": "2022-01-17T20:15:20.855Z"
   },
   {
    "duration": 351,
    "start_time": "2022-01-17T20:20:09.399Z"
   },
   {
    "duration": 11,
    "start_time": "2022-01-17T20:21:39.301Z"
   },
   {
    "duration": 10,
    "start_time": "2022-01-17T20:22:20.541Z"
   },
   {
    "duration": 145,
    "start_time": "2022-01-17T20:24:05.256Z"
   },
   {
    "duration": 133,
    "start_time": "2022-01-17T20:24:35.011Z"
   },
   {
    "duration": 11,
    "start_time": "2022-01-17T20:25:08.034Z"
   },
   {
    "duration": 11,
    "start_time": "2022-01-17T20:25:30.268Z"
   },
   {
    "duration": 128,
    "start_time": "2022-01-17T20:37:27.282Z"
   },
   {
    "duration": 3126,
    "start_time": "2022-01-17T20:37:46.881Z"
   },
   {
    "duration": 128,
    "start_time": "2022-01-17T20:38:09.061Z"
   },
   {
    "duration": 10,
    "start_time": "2022-01-17T20:38:15.851Z"
   },
   {
    "duration": 25,
    "start_time": "2022-01-17T20:38:24.965Z"
   },
   {
    "duration": 283,
    "start_time": "2022-01-17T20:39:16.017Z"
   },
   {
    "duration": 442,
    "start_time": "2022-01-17T20:39:45.725Z"
   },
   {
    "duration": 134,
    "start_time": "2022-01-17T20:40:15.714Z"
   },
   {
    "duration": 16,
    "start_time": "2022-01-17T20:40:20.748Z"
   },
   {
    "duration": 135,
    "start_time": "2022-01-17T20:41:48.991Z"
   },
   {
    "duration": 3567,
    "start_time": "2022-01-17T20:42:00.148Z"
   },
   {
    "duration": 3126,
    "start_time": "2022-01-17T20:42:51.927Z"
   },
   {
    "duration": 3882,
    "start_time": "2022-01-17T20:43:25.815Z"
   },
   {
    "duration": 3632,
    "start_time": "2022-01-17T20:43:58.480Z"
   },
   {
    "duration": 14,
    "start_time": "2022-01-17T20:44:17.358Z"
   },
   {
    "duration": 9,
    "start_time": "2022-01-17T20:44:54.324Z"
   },
   {
    "duration": 15,
    "start_time": "2022-01-17T20:44:59.694Z"
   },
   {
    "duration": 22,
    "start_time": "2022-01-17T20:45:02.739Z"
   },
   {
    "duration": 24,
    "start_time": "2022-01-17T20:45:05.124Z"
   },
   {
    "duration": 3416,
    "start_time": "2022-01-17T20:45:13.329Z"
   },
   {
    "duration": 432,
    "start_time": "2022-01-17T20:45:52.456Z"
   },
   {
    "duration": 375,
    "start_time": "2022-01-17T20:46:03.041Z"
   },
   {
    "duration": 42,
    "start_time": "2022-01-17T20:46:56.739Z"
   },
   {
    "duration": 1426,
    "start_time": "2022-01-17T20:47:04.825Z"
   },
   {
    "duration": 203,
    "start_time": "2022-01-17T20:47:49.057Z"
   },
   {
    "duration": 1335,
    "start_time": "2022-01-17T20:48:08.630Z"
   },
   {
    "duration": 58,
    "start_time": "2022-01-17T20:49:04.526Z"
   },
   {
    "duration": 373,
    "start_time": "2022-01-17T20:49:15.272Z"
   },
   {
    "duration": 1330,
    "start_time": "2022-01-17T20:49:25.366Z"
   },
   {
    "duration": 142,
    "start_time": "2022-01-17T20:52:31.267Z"
   },
   {
    "duration": 14,
    "start_time": "2022-01-17T20:52:37.256Z"
   },
   {
    "duration": 674,
    "start_time": "2022-01-17T21:35:19.604Z"
   },
   {
    "duration": 449,
    "start_time": "2022-01-17T21:42:03.870Z"
   },
   {
    "duration": 433,
    "start_time": "2022-01-17T21:42:26.350Z"
   },
   {
    "duration": 438,
    "start_time": "2022-01-17T21:42:39.917Z"
   },
   {
    "duration": 823,
    "start_time": "2022-01-17T21:43:35.506Z"
   },
   {
    "duration": 518,
    "start_time": "2022-01-17T21:53:02.419Z"
   },
   {
    "duration": 14,
    "start_time": "2022-01-17T21:53:42.529Z"
   },
   {
    "duration": 1322,
    "start_time": "2022-01-17T21:55:23.296Z"
   },
   {
    "duration": 360,
    "start_time": "2022-01-17T21:55:56.055Z"
   },
   {
    "duration": 167,
    "start_time": "2022-01-17T21:56:21.671Z"
   },
   {
    "duration": 56,
    "start_time": "2022-01-17T21:57:26.070Z"
   },
   {
    "duration": 160,
    "start_time": "2022-01-17T21:57:31.328Z"
   },
   {
    "duration": 150,
    "start_time": "2022-01-17T21:57:54.756Z"
   },
   {
    "duration": 1340,
    "start_time": "2022-01-17T21:58:01.374Z"
   },
   {
    "duration": 1450,
    "start_time": "2022-01-17T21:58:50.660Z"
   },
   {
    "duration": 1337,
    "start_time": "2022-01-17T21:59:40.903Z"
   },
   {
    "duration": 50,
    "start_time": "2022-01-17T22:02:27.705Z"
   },
   {
    "duration": 23,
    "start_time": "2022-01-17T22:02:32.274Z"
   },
   {
    "duration": 25,
    "start_time": "2022-01-17T22:02:41.113Z"
   },
   {
    "duration": 25,
    "start_time": "2022-01-17T22:04:15.821Z"
   },
   {
    "duration": 207,
    "start_time": "2022-01-17T22:08:50.056Z"
   },
   {
    "duration": 261,
    "start_time": "2022-01-17T22:08:56.668Z"
   },
   {
    "duration": 9,
    "start_time": "2022-01-17T22:09:47.781Z"
   },
   {
    "duration": 10,
    "start_time": "2022-01-17T22:10:16.162Z"
   },
   {
    "duration": 275,
    "start_time": "2022-01-17T22:13:48.724Z"
   },
   {
    "duration": 272,
    "start_time": "2022-01-17T22:14:02.305Z"
   },
   {
    "duration": 6,
    "start_time": "2022-01-17T22:15:20.619Z"
   },
   {
    "duration": 4,
    "start_time": "2022-01-17T22:16:09.109Z"
   },
   {
    "duration": 4,
    "start_time": "2022-01-17T22:17:40.293Z"
   },
   {
    "duration": 7,
    "start_time": "2022-01-17T22:17:51.243Z"
   },
   {
    "duration": 303,
    "start_time": "2022-01-17T22:18:12.525Z"
   },
   {
    "duration": 1076,
    "start_time": "2022-01-17T22:20:03.330Z"
   },
   {
    "duration": 12,
    "start_time": "2022-01-17T22:20:07.500Z"
   },
   {
    "duration": 9,
    "start_time": "2022-01-17T22:20:08.236Z"
   },
   {
    "duration": 14,
    "start_time": "2022-01-17T22:20:09.087Z"
   },
   {
    "duration": 16,
    "start_time": "2022-01-17T22:20:10.672Z"
   },
   {
    "duration": 6,
    "start_time": "2022-01-17T22:20:11.630Z"
   },
   {
    "duration": 410,
    "start_time": "2022-01-17T22:20:14.037Z"
   },
   {
    "duration": 11,
    "start_time": "2022-01-17T22:20:19.210Z"
   },
   {
    "duration": 838,
    "start_time": "2022-01-17T22:20:22.548Z"
   },
   {
    "duration": 928,
    "start_time": "2022-01-17T22:20:25.756Z"
   },
   {
    "duration": 349,
    "start_time": "2022-01-17T22:20:30.625Z"
   },
   {
    "duration": 12,
    "start_time": "2022-01-17T22:20:31.821Z"
   },
   {
    "duration": 334,
    "start_time": "2022-01-17T22:20:36.139Z"
   },
   {
    "duration": 11,
    "start_time": "2022-01-17T22:20:39.156Z"
   },
   {
    "duration": 10,
    "start_time": "2022-01-17T22:20:40.223Z"
   },
   {
    "duration": 11,
    "start_time": "2022-01-17T22:20:40.767Z"
   },
   {
    "duration": 3167,
    "start_time": "2022-01-17T22:20:48.110Z"
   },
   {
    "duration": 10,
    "start_time": "2022-01-17T22:20:57.759Z"
   },
   {
    "duration": 25,
    "start_time": "2022-01-17T22:21:02.823Z"
   },
   {
    "duration": 866,
    "start_time": "2022-01-17T22:21:05.482Z"
   },
   {
    "duration": 449,
    "start_time": "2022-01-17T22:21:09.724Z"
   },
   {
    "duration": 443,
    "start_time": "2022-01-17T22:21:19.791Z"
   },
   {
    "duration": 14,
    "start_time": "2022-01-17T22:21:27.801Z"
   },
   {
    "duration": 1446,
    "start_time": "2022-01-17T22:21:44.071Z"
   },
   {
    "duration": 24,
    "start_time": "2022-01-17T22:21:52.922Z"
   },
   {
    "duration": 1671,
    "start_time": "2022-01-17T22:23:25.123Z"
   },
   {
    "duration": 1792,
    "start_time": "2022-01-17T22:23:39.984Z"
   },
   {
    "duration": 1706,
    "start_time": "2022-01-17T22:24:26.232Z"
   },
   {
    "duration": 1748,
    "start_time": "2022-01-17T22:27:31.371Z"
   },
   {
    "duration": 1334,
    "start_time": "2022-01-17T22:28:10.944Z"
   },
   {
    "duration": 1316,
    "start_time": "2022-01-17T22:28:55.780Z"
   },
   {
    "duration": 947,
    "start_time": "2022-01-17T22:29:49.993Z"
   },
   {
    "duration": 322,
    "start_time": "2022-01-17T22:30:19.795Z"
   },
   {
    "duration": 285,
    "start_time": "2022-01-17T22:31:44.934Z"
   },
   {
    "duration": 284,
    "start_time": "2022-01-17T22:32:12.872Z"
   },
   {
    "duration": 306,
    "start_time": "2022-01-17T22:32:59.749Z"
   },
   {
    "duration": 10,
    "start_time": "2022-01-17T22:36:11.376Z"
   },
   {
    "duration": 10,
    "start_time": "2022-01-17T22:36:53.223Z"
   },
   {
    "duration": 9,
    "start_time": "2022-01-17T22:38:42.045Z"
   },
   {
    "duration": 819,
    "start_time": "2022-01-17T22:38:43.071Z"
   },
   {
    "duration": 929,
    "start_time": "2022-01-17T22:38:44.514Z"
   },
   {
    "duration": 349,
    "start_time": "2022-01-17T22:38:45.445Z"
   },
   {
    "duration": 12,
    "start_time": "2022-01-17T22:38:45.796Z"
   },
   {
    "duration": 11,
    "start_time": "2022-01-17T22:38:45.810Z"
   },
   {
    "duration": 10,
    "start_time": "2022-01-17T22:38:46.401Z"
   },
   {
    "duration": 3098,
    "start_time": "2022-01-17T22:38:56.743Z"
   },
   {
    "duration": 10,
    "start_time": "2022-01-17T22:38:59.843Z"
   },
   {
    "duration": 41,
    "start_time": "2022-01-17T22:38:59.855Z"
   },
   {
    "duration": 856,
    "start_time": "2022-01-17T22:39:00.492Z"
   },
   {
    "duration": 453,
    "start_time": "2022-01-17T22:39:10.508Z"
   },
   {
    "duration": 424,
    "start_time": "2022-01-17T22:39:15.327Z"
   },
   {
    "duration": 15,
    "start_time": "2022-01-17T22:39:16.217Z"
   },
   {
    "duration": 1371,
    "start_time": "2022-01-17T22:39:17.893Z"
   },
   {
    "duration": 24,
    "start_time": "2022-01-17T22:39:27.905Z"
   },
   {
    "duration": 422,
    "start_time": "2022-01-17T22:39:39.264Z"
   },
   {
    "duration": 1069,
    "start_time": "2022-01-17T23:45:51.829Z"
   },
   {
    "duration": 11,
    "start_time": "2022-01-17T23:45:54.887Z"
   },
   {
    "duration": 10,
    "start_time": "2022-01-17T23:45:55.603Z"
   },
   {
    "duration": 13,
    "start_time": "2022-01-17T23:45:57.228Z"
   },
   {
    "duration": 15,
    "start_time": "2022-01-17T23:45:59.749Z"
   },
   {
    "duration": 6,
    "start_time": "2022-01-17T23:46:00.985Z"
   },
   {
    "duration": 403,
    "start_time": "2022-01-17T23:46:06.669Z"
   },
   {
    "duration": 10,
    "start_time": "2022-01-17T23:46:10.406Z"
   },
   {
    "duration": 804,
    "start_time": "2022-01-17T23:46:11.898Z"
   },
   {
    "duration": 877,
    "start_time": "2022-01-17T23:46:33.053Z"
   },
   {
    "duration": 333,
    "start_time": "2022-01-17T23:46:39.470Z"
   },
   {
    "duration": 11,
    "start_time": "2022-01-17T23:46:40.871Z"
   },
   {
    "duration": 10,
    "start_time": "2022-01-17T23:46:41.907Z"
   },
   {
    "duration": 10,
    "start_time": "2022-01-17T23:46:42.556Z"
   },
   {
    "duration": 3032,
    "start_time": "2022-01-17T23:46:46.727Z"
   },
   {
    "duration": 11,
    "start_time": "2022-01-17T23:46:53.634Z"
   },
   {
    "duration": 24,
    "start_time": "2022-01-17T23:46:55.383Z"
   },
   {
    "duration": 820,
    "start_time": "2022-01-17T23:46:58.474Z"
   },
   {
    "duration": 433,
    "start_time": "2022-01-17T23:47:01.567Z"
   },
   {
    "duration": 424,
    "start_time": "2022-01-17T23:47:09.188Z"
   },
   {
    "duration": 16,
    "start_time": "2022-01-17T23:47:11.523Z"
   },
   {
    "duration": 1425,
    "start_time": "2022-01-17T23:47:13.550Z"
   },
   {
    "duration": 23,
    "start_time": "2022-01-17T23:47:18.955Z"
   },
   {
    "duration": 299,
    "start_time": "2022-01-17T23:47:22.300Z"
   },
   {
    "duration": 10,
    "start_time": "2022-01-17T23:47:38.264Z"
   },
   {
    "duration": 10,
    "start_time": "2022-01-17T23:47:39.931Z"
   },
   {
    "duration": 1566,
    "start_time": "2022-01-18T13:06:43.339Z"
   },
   {
    "duration": 14,
    "start_time": "2022-01-18T13:06:44.908Z"
   },
   {
    "duration": 15,
    "start_time": "2022-01-18T13:06:44.926Z"
   },
   {
    "duration": 37,
    "start_time": "2022-01-18T13:06:44.944Z"
   },
   {
    "duration": 22,
    "start_time": "2022-01-18T13:06:44.984Z"
   },
   {
    "duration": 9,
    "start_time": "2022-01-18T13:06:45.009Z"
   },
   {
    "duration": 693,
    "start_time": "2022-01-18T13:06:45.020Z"
   },
   {
    "duration": 14,
    "start_time": "2022-01-18T13:06:45.715Z"
   },
   {
    "duration": 1355,
    "start_time": "2022-01-18T13:06:45.733Z"
   }
  ],
  "kernelspec": {
   "display_name": "Python 3 (ipykernel)",
   "language": "python",
   "name": "python3"
  },
  "language_info": {
   "codemirror_mode": {
    "name": "ipython",
    "version": 3
   },
   "file_extension": ".py",
   "mimetype": "text/x-python",
   "name": "python",
   "nbconvert_exporter": "python",
   "pygments_lexer": "ipython3",
   "version": "3.9.5"
  },
  "toc": {
   "base_numbering": 1,
   "nav_menu": {},
   "number_sections": true,
   "sideBar": true,
   "skip_h1_title": true,
   "title_cell": "Table of Contents",
   "title_sidebar": "Contents",
   "toc_cell": false,
   "toc_position": {
    "height": "calc(100% - 180px)",
    "left": "10px",
    "top": "150px",
    "width": "243.81px"
   },
   "toc_section_display": true,
   "toc_window_display": true
  }
 },
 "nbformat": 4,
 "nbformat_minor": 2
}
